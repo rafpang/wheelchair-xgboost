{
  "cells": [
    {
      "cell_type": "markdown",
      "metadata": {
        "id": "view-in-github",
        "colab_type": "text"
      },
      "source": [
        "<a href=\"https://colab.research.google.com/github/Venggar/personal-projects/blob/main/Wheelchair_Accessibility_Prediction.ipynb\" target=\"_parent\"><img src=\"https://colab.research.google.com/assets/colab-badge.svg\" alt=\"Open In Colab\"/></a>"
      ]
    },
    {
      "cell_type": "markdown",
      "id": "homeless-quality",
      "metadata": {
        "id": "homeless-quality"
      },
      "source": [
        "# DataCamp Certification Case Study\n",
        "\n",
        "### Project Brief\n",
        "\n",
        "Congratulations, you have landed your first job as a data scientist at National Accessibility! National Accessibility currently installs wheelchair ramps for office buildings and schools. However, the marketing manager wants the company to start installing ramps for event venues as well. According to a new survey, approximately 40% of event venues are not wheelchair accessible. However, it is not easy to know whether a venue already has a ramp installed. \n",
        "\n",
        "The marketing manager would like to know whether you can develop a model to predict whether an event venue has a wheelchair ramp. To help you with this, he has provided you with a dataset of London venues. This data includes whether the venue has a ramp.\n",
        "\n",
        "It is a waste of time to contact venues that already have a ramp installed, and it also looks bad for the company. Therefore, it is especially important to exclude locations that already have a ramp. Ideally, at least two-thirds of venues predicted to be without a ramp should not have a ramp. \n",
        "\n",
        "You will need to present your findings in two formats:\n",
        "- First, you will need to present your findings to the marketing manager via a 10 minute oral presentation. The owner has no technical data science background. \n",
        "- You will also need to submit a technical report to your manager, who does have a strong technical data science background.\n",
        "\n",
        "The data you will use for this analysis can be accessed here: `\"data/event_venues.csv\"`"
      ]
    },
    {
      "cell_type": "markdown",
      "id": "d42ab26f-500c-47f3-9f89-56d3b865196e",
      "metadata": {
        "id": "d42ab26f-500c-47f3-9f89-56d3b865196e"
      },
      "source": [
        "## Basic Analysis\n",
        "\n",
        "Let us start! Firstly, packages for analysis are to be imported. Some basic analysis on the dataset were done, such as finding the number of NaN values as well as examining the various data types available. Summary statistics were also calculated. I had a hunch that there could be the same venue_name for some records, so the number of unique venue names are also going to be found"
      ]
    },
    {
      "cell_type": "code",
      "execution_count": null,
      "id": "dramatic-hampshire",
      "metadata": {
        "scrolled": true,
        "id": "dramatic-hampshire",
        "outputId": "26f93cfe-6d96-4398-e156-b2f1a31c55d3"
      },
      "outputs": [
        {
          "data": {
            "application/com.datacamp.data-table.v1+json": {
              "is_truncated": false,
              "table": {
                "data": [
                  {
                    "Loud music / events": false,
                    "Promoted / ticketed events": false,
                    "Theatre_max": 112.7158671587,
                    "U-Shaped_max": 35.0454545455,
                    "Venue provides alcohol": 0,
                    "Wheelchair accessible": false,
                    "Wi-Fi": true,
                    "index": 0,
                    "max_standing": 0,
                    "supervenue": false,
                    "venue_name": "techspace aldgate east"
                  },
                  {
                    "Loud music / events": true,
                    "Promoted / ticketed events": true,
                    "Theatre_max": 80,
                    "U-Shaped_max": 40,
                    "Venue provides alcohol": 1,
                    "Wheelchair accessible": false,
                    "Wi-Fi": true,
                    "index": 1,
                    "max_standing": 120,
                    "supervenue": false,
                    "venue_name": "green rooms hotel"
                  },
                  {
                    "Loud music / events": false,
                    "Promoted / ticketed events": false,
                    "Theatre_max": 112.7158671587,
                    "U-Shaped_max": 35.0454545455,
                    "Venue provides alcohol": 0,
                    "Wheelchair accessible": false,
                    "Wi-Fi": true,
                    "index": 2,
                    "max_standing": 0,
                    "supervenue": false,
                    "venue_name": "148 leadenhall street"
                  },
                  {
                    "Loud music / events": false,
                    "Promoted / ticketed events": false,
                    "Theatre_max": 60,
                    "U-Shaped_max": 35.0454545455,
                    "Venue provides alcohol": 0,
                    "Wheelchair accessible": false,
                    "Wi-Fi": true,
                    "index": 3,
                    "max_standing": 60,
                    "supervenue": false,
                    "venue_name": "conway hall"
                  },
                  {
                    "Loud music / events": false,
                    "Promoted / ticketed events": false,
                    "Theatre_max": 112.7158671587,
                    "U-Shaped_max": 35.0454545455,
                    "Venue provides alcohol": 0,
                    "Wheelchair accessible": false,
                    "Wi-Fi": true,
                    "index": 4,
                    "max_standing": 0,
                    "supervenue": false,
                    "venue_name": "gridiron building"
                  }
                ],
                "schema": {
                  "fields": [
                    {
                      "name": "index",
                      "type": "integer"
                    },
                    {
                      "name": "venue_name",
                      "type": "string"
                    },
                    {
                      "name": "Loud music / events",
                      "type": "boolean"
                    },
                    {
                      "name": "Venue provides alcohol",
                      "type": "integer"
                    },
                    {
                      "name": "Wi-Fi",
                      "type": "boolean"
                    },
                    {
                      "name": "supervenue",
                      "type": "boolean"
                    },
                    {
                      "name": "U-Shaped_max",
                      "type": "number"
                    },
                    {
                      "name": "max_standing",
                      "type": "integer"
                    },
                    {
                      "name": "Theatre_max",
                      "type": "number"
                    },
                    {
                      "name": "Promoted / ticketed events",
                      "type": "boolean"
                    },
                    {
                      "name": "Wheelchair accessible",
                      "type": "boolean"
                    }
                  ],
                  "pandas_version": "0.20.0",
                  "primaryKey": [
                    "index"
                  ]
                }
              },
              "total_rows": 5
            },
            "text/html": [
              "<div>\n",
              "<style scoped>\n",
              "    .dataframe tbody tr th:only-of-type {\n",
              "        vertical-align: middle;\n",
              "    }\n",
              "\n",
              "    .dataframe tbody tr th {\n",
              "        vertical-align: top;\n",
              "    }\n",
              "\n",
              "    .dataframe thead th {\n",
              "        text-align: right;\n",
              "    }\n",
              "</style>\n",
              "<table border=\"1\" class=\"dataframe\">\n",
              "  <thead>\n",
              "    <tr style=\"text-align: right;\">\n",
              "      <th></th>\n",
              "      <th>venue_name</th>\n",
              "      <th>Loud music / events</th>\n",
              "      <th>Venue provides alcohol</th>\n",
              "      <th>Wi-Fi</th>\n",
              "      <th>supervenue</th>\n",
              "      <th>U-Shaped_max</th>\n",
              "      <th>max_standing</th>\n",
              "      <th>Theatre_max</th>\n",
              "      <th>Promoted / ticketed events</th>\n",
              "      <th>Wheelchair accessible</th>\n",
              "    </tr>\n",
              "  </thead>\n",
              "  <tbody>\n",
              "    <tr>\n",
              "      <th>0</th>\n",
              "      <td>techspace aldgate east</td>\n",
              "      <td>False</td>\n",
              "      <td>0</td>\n",
              "      <td>True</td>\n",
              "      <td>False</td>\n",
              "      <td>35.045455</td>\n",
              "      <td>0</td>\n",
              "      <td>112.715867</td>\n",
              "      <td>False</td>\n",
              "      <td>False</td>\n",
              "    </tr>\n",
              "    <tr>\n",
              "      <th>1</th>\n",
              "      <td>green rooms hotel</td>\n",
              "      <td>True</td>\n",
              "      <td>1</td>\n",
              "      <td>True</td>\n",
              "      <td>False</td>\n",
              "      <td>40.000000</td>\n",
              "      <td>120</td>\n",
              "      <td>80.000000</td>\n",
              "      <td>True</td>\n",
              "      <td>False</td>\n",
              "    </tr>\n",
              "    <tr>\n",
              "      <th>2</th>\n",
              "      <td>148 leadenhall street</td>\n",
              "      <td>False</td>\n",
              "      <td>0</td>\n",
              "      <td>True</td>\n",
              "      <td>False</td>\n",
              "      <td>35.045455</td>\n",
              "      <td>0</td>\n",
              "      <td>112.715867</td>\n",
              "      <td>False</td>\n",
              "      <td>False</td>\n",
              "    </tr>\n",
              "    <tr>\n",
              "      <th>3</th>\n",
              "      <td>conway hall</td>\n",
              "      <td>False</td>\n",
              "      <td>0</td>\n",
              "      <td>True</td>\n",
              "      <td>False</td>\n",
              "      <td>35.045455</td>\n",
              "      <td>60</td>\n",
              "      <td>60.000000</td>\n",
              "      <td>False</td>\n",
              "      <td>False</td>\n",
              "    </tr>\n",
              "    <tr>\n",
              "      <th>4</th>\n",
              "      <td>gridiron building</td>\n",
              "      <td>False</td>\n",
              "      <td>0</td>\n",
              "      <td>True</td>\n",
              "      <td>False</td>\n",
              "      <td>35.045455</td>\n",
              "      <td>0</td>\n",
              "      <td>112.715867</td>\n",
              "      <td>False</td>\n",
              "      <td>False</td>\n",
              "    </tr>\n",
              "  </tbody>\n",
              "</table>\n",
              "</div>"
            ],
            "text/plain": [
              "               venue_name  Loud music / events  Venue provides alcohol  Wi-Fi  \\\n",
              "0  techspace aldgate east                False                       0   True   \n",
              "1       green rooms hotel                 True                       1   True   \n",
              "2   148 leadenhall street                False                       0   True   \n",
              "3             conway hall                False                       0   True   \n",
              "4       gridiron building                False                       0   True   \n",
              "\n",
              "   supervenue  U-Shaped_max  max_standing  Theatre_max  \\\n",
              "0       False     35.045455             0   112.715867   \n",
              "1       False     40.000000           120    80.000000   \n",
              "2       False     35.045455             0   112.715867   \n",
              "3       False     35.045455            60    60.000000   \n",
              "4       False     35.045455             0   112.715867   \n",
              "\n",
              "   Promoted / ticketed events  Wheelchair accessible  \n",
              "0                       False                  False  \n",
              "1                        True                  False  \n",
              "2                       False                  False  \n",
              "3                       False                  False  \n",
              "4                       False                  False  "
            ]
          },
          "execution_count": 1,
          "metadata": {},
          "output_type": "execute_result"
        }
      ],
      "source": [
        "# Use this cell to begin, and add as many cells as you need to complete your analysis!\n",
        "import pandas as pd\n",
        "import seaborn as sns\n",
        "import numpy as np\n",
        "import matplotlib.pyplot as plt\n",
        "import xgboost as xgb\n",
        "df = pd.read_csv(\"data/event_venues.csv\")\n",
        "df.head()"
      ]
    },
    {
      "cell_type": "code",
      "execution_count": null,
      "id": "c09a6b6f-e7d2-4073-957a-8253071a4724",
      "metadata": {
        "id": "c09a6b6f-e7d2-4073-957a-8253071a4724",
        "outputId": "0dd87090-8588-4b73-ee97-4b8c2a743ea0"
      },
      "outputs": [
        {
          "name": "stdout",
          "output_type": "stream",
          "text": [
            "<class 'pandas.core.frame.DataFrame'>\n",
            "RangeIndex: 3910 entries, 0 to 3909\n",
            "Data columns (total 10 columns):\n",
            " #   Column                      Non-Null Count  Dtype  \n",
            "---  ------                      --------------  -----  \n",
            " 0   venue_name                  3910 non-null   object \n",
            " 1   Loud music / events         3910 non-null   bool   \n",
            " 2   Venue provides alcohol      3910 non-null   int64  \n",
            " 3   Wi-Fi                       3910 non-null   bool   \n",
            " 4   supervenue                  3910 non-null   bool   \n",
            " 5   U-Shaped_max                3910 non-null   float64\n",
            " 6   max_standing                3910 non-null   int64  \n",
            " 7   Theatre_max                 3910 non-null   float64\n",
            " 8   Promoted / ticketed events  3910 non-null   bool   \n",
            " 9   Wheelchair accessible       3910 non-null   bool   \n",
            "dtypes: bool(5), float64(2), int64(2), object(1)\n",
            "memory usage: 172.0+ KB\n"
          ]
        }
      ],
      "source": [
        "df.info()"
      ]
    },
    {
      "cell_type": "code",
      "execution_count": null,
      "id": "344dd403-7f1b-4e62-be65-3cba11b9caf0",
      "metadata": {
        "id": "344dd403-7f1b-4e62-be65-3cba11b9caf0",
        "outputId": "96866d20-3891-4a04-83d0-24bd262de031"
      },
      "outputs": [
        {
          "data": {
            "text/plain": [
              "venue_name                    0\n",
              "Loud music / events           0\n",
              "Venue provides alcohol        0\n",
              "Wi-Fi                         0\n",
              "supervenue                    0\n",
              "U-Shaped_max                  0\n",
              "max_standing                  0\n",
              "Theatre_max                   0\n",
              "Promoted / ticketed events    0\n",
              "Wheelchair accessible         0\n",
              "dtype: int64"
            ]
          },
          "execution_count": 3,
          "metadata": {},
          "output_type": "execute_result"
        }
      ],
      "source": [
        "df.isnull().sum()"
      ]
    },
    {
      "cell_type": "code",
      "execution_count": null,
      "id": "e23635ce-a6ac-4c2c-8e57-22c42c5849ec",
      "metadata": {
        "id": "e23635ce-a6ac-4c2c-8e57-22c42c5849ec",
        "outputId": "b70ed8a9-f3aa-4e1b-bb2b-450fd07367af"
      },
      "outputs": [
        {
          "data": {
            "application/com.datacamp.data-table.v1+json": {
              "is_truncated": false,
              "table": {
                "data": [
                  {
                    "Theatre_max": 3910,
                    "U-Shaped_max": 3910,
                    "Venue provides alcohol": 3910,
                    "index": "count",
                    "max_standing": 3910
                  },
                  {
                    "Theatre_max": 112.7158671587,
                    "U-Shaped_max": 35.0454545455,
                    "Venue provides alcohol": 0.7132992327,
                    "index": "mean",
                    "max_standing": 114.2035805627
                  },
                  {
                    "Theatre_max": 131.8532490552,
                    "U-Shaped_max": 43.9375907851,
                    "Venue provides alcohol": 0.4522784025,
                    "index": "std",
                    "max_standing": 272.2699431853
                  },
                  {
                    "Theatre_max": 1,
                    "U-Shaped_max": 1,
                    "Venue provides alcohol": 0,
                    "index": "min",
                    "max_standing": 0
                  },
                  {
                    "Theatre_max": 80,
                    "U-Shaped_max": 35.0454545455,
                    "Venue provides alcohol": 0,
                    "index": "25%",
                    "max_standing": 0
                  },
                  {
                    "Theatre_max": 112.7158671587,
                    "U-Shaped_max": 35.0454545455,
                    "Venue provides alcohol": 1,
                    "index": "50%",
                    "max_standing": 50
                  },
                  {
                    "Theatre_max": 112.7158671587,
                    "U-Shaped_max": 35.0454545455,
                    "Venue provides alcohol": 1,
                    "index": "75%",
                    "max_standing": 120
                  },
                  {
                    "Theatre_max": 4000,
                    "U-Shaped_max": 2520,
                    "Venue provides alcohol": 1,
                    "index": "max",
                    "max_standing": 7500
                  }
                ],
                "schema": {
                  "fields": [
                    {
                      "name": "index",
                      "type": "string"
                    },
                    {
                      "name": "Venue provides alcohol",
                      "type": "number"
                    },
                    {
                      "name": "U-Shaped_max",
                      "type": "number"
                    },
                    {
                      "name": "max_standing",
                      "type": "number"
                    },
                    {
                      "name": "Theatre_max",
                      "type": "number"
                    }
                  ],
                  "pandas_version": "0.20.0",
                  "primaryKey": [
                    "index"
                  ]
                }
              },
              "total_rows": 8
            },
            "text/html": [
              "<div>\n",
              "<style scoped>\n",
              "    .dataframe tbody tr th:only-of-type {\n",
              "        vertical-align: middle;\n",
              "    }\n",
              "\n",
              "    .dataframe tbody tr th {\n",
              "        vertical-align: top;\n",
              "    }\n",
              "\n",
              "    .dataframe thead th {\n",
              "        text-align: right;\n",
              "    }\n",
              "</style>\n",
              "<table border=\"1\" class=\"dataframe\">\n",
              "  <thead>\n",
              "    <tr style=\"text-align: right;\">\n",
              "      <th></th>\n",
              "      <th>Venue provides alcohol</th>\n",
              "      <th>U-Shaped_max</th>\n",
              "      <th>max_standing</th>\n",
              "      <th>Theatre_max</th>\n",
              "    </tr>\n",
              "  </thead>\n",
              "  <tbody>\n",
              "    <tr>\n",
              "      <th>count</th>\n",
              "      <td>3910.000000</td>\n",
              "      <td>3910.000000</td>\n",
              "      <td>3910.000000</td>\n",
              "      <td>3910.000000</td>\n",
              "    </tr>\n",
              "    <tr>\n",
              "      <th>mean</th>\n",
              "      <td>0.713299</td>\n",
              "      <td>35.045455</td>\n",
              "      <td>114.203581</td>\n",
              "      <td>112.715867</td>\n",
              "    </tr>\n",
              "    <tr>\n",
              "      <th>std</th>\n",
              "      <td>0.452278</td>\n",
              "      <td>43.937591</td>\n",
              "      <td>272.269943</td>\n",
              "      <td>131.853249</td>\n",
              "    </tr>\n",
              "    <tr>\n",
              "      <th>min</th>\n",
              "      <td>0.000000</td>\n",
              "      <td>1.000000</td>\n",
              "      <td>0.000000</td>\n",
              "      <td>1.000000</td>\n",
              "    </tr>\n",
              "    <tr>\n",
              "      <th>25%</th>\n",
              "      <td>0.000000</td>\n",
              "      <td>35.045455</td>\n",
              "      <td>0.000000</td>\n",
              "      <td>80.000000</td>\n",
              "    </tr>\n",
              "    <tr>\n",
              "      <th>50%</th>\n",
              "      <td>1.000000</td>\n",
              "      <td>35.045455</td>\n",
              "      <td>50.000000</td>\n",
              "      <td>112.715867</td>\n",
              "    </tr>\n",
              "    <tr>\n",
              "      <th>75%</th>\n",
              "      <td>1.000000</td>\n",
              "      <td>35.045455</td>\n",
              "      <td>120.000000</td>\n",
              "      <td>112.715867</td>\n",
              "    </tr>\n",
              "    <tr>\n",
              "      <th>max</th>\n",
              "      <td>1.000000</td>\n",
              "      <td>2520.000000</td>\n",
              "      <td>7500.000000</td>\n",
              "      <td>4000.000000</td>\n",
              "    </tr>\n",
              "  </tbody>\n",
              "</table>\n",
              "</div>"
            ],
            "text/plain": [
              "       Venue provides alcohol  U-Shaped_max  max_standing  Theatre_max\n",
              "count             3910.000000   3910.000000   3910.000000  3910.000000\n",
              "mean                 0.713299     35.045455    114.203581   112.715867\n",
              "std                  0.452278     43.937591    272.269943   131.853249\n",
              "min                  0.000000      1.000000      0.000000     1.000000\n",
              "25%                  0.000000     35.045455      0.000000    80.000000\n",
              "50%                  1.000000     35.045455     50.000000   112.715867\n",
              "75%                  1.000000     35.045455    120.000000   112.715867\n",
              "max                  1.000000   2520.000000   7500.000000  4000.000000"
            ]
          },
          "execution_count": 4,
          "metadata": {},
          "output_type": "execute_result"
        }
      ],
      "source": [
        "df.describe()"
      ]
    },
    {
      "cell_type": "code",
      "execution_count": null,
      "id": "0678453e-31fa-4555-82f8-1a5e22f1614c",
      "metadata": {
        "id": "0678453e-31fa-4555-82f8-1a5e22f1614c",
        "outputId": "4877a5c8-5888-49f4-cdac-c21eac8f00ef"
      },
      "outputs": [
        {
          "data": {
            "text/plain": [
              "1444"
            ]
          },
          "execution_count": 5,
          "metadata": {},
          "output_type": "execute_result"
        }
      ],
      "source": [
        "len(df['venue_name'].unique())"
      ]
    },
    {
      "cell_type": "markdown",
      "id": "098de792-1b51-4573-8056-adfccaf69c14",
      "metadata": {
        "id": "098de792-1b51-4573-8056-adfccaf69c14"
      },
      "source": [
        "There are 1444 unique venues in the dataset, less than the number of rows. To investigate further, I examined one example."
      ]
    },
    {
      "cell_type": "code",
      "execution_count": null,
      "id": "ef4c2f57-de5a-40b2-95e6-12807243ea89",
      "metadata": {
        "id": "ef4c2f57-de5a-40b2-95e6-12807243ea89",
        "outputId": "e51e16ea-537d-4c1a-8020-d2984ad9f157"
      },
      "outputs": [
        {
          "data": {
            "text/plain": [
              "0                  techspace aldgate east\n",
              "1                       green rooms hotel\n",
              "2                   148 leadenhall street\n",
              "3                             conway hall\n",
              "4                       gridiron building\n",
              "                      ...                \n",
              "3905                  the hurlingham club\n",
              "3906           landmark - aldgate, london\n",
              "3907    ortus conference and events venue\n",
              "3908                     30 euston square\n",
              "3909                       broadway house\n",
              "Name: venue_name, Length: 3323, dtype: object"
            ]
          },
          "execution_count": 6,
          "metadata": {},
          "output_type": "execute_result"
        }
      ],
      "source": [
        "df[df.duplicated(['venue_name'], keep=False)]['venue_name']"
      ]
    },
    {
      "cell_type": "code",
      "execution_count": null,
      "id": "08fe8b35-0229-4b07-acc9-34bbc8185150",
      "metadata": {
        "id": "08fe8b35-0229-4b07-acc9-34bbc8185150",
        "outputId": "9c7811ee-adcd-40cb-df4e-bfcb937581a4"
      },
      "outputs": [
        {
          "data": {
            "application/com.datacamp.data-table.v1+json": {
              "is_truncated": false,
              "table": {
                "data": [
                  {
                    "Loud music / events": false,
                    "Promoted / ticketed events": false,
                    "Theatre_max": 112.7158671587,
                    "U-Shaped_max": 35.0454545455,
                    "Venue provides alcohol": 0,
                    "Wheelchair accessible": false,
                    "Wi-Fi": true,
                    "index": 4,
                    "max_standing": 0,
                    "supervenue": false,
                    "venue_name": "gridiron building"
                  },
                  {
                    "Loud music / events": false,
                    "Promoted / ticketed events": false,
                    "Theatre_max": 112.7158671587,
                    "U-Shaped_max": 35.0454545455,
                    "Venue provides alcohol": 0,
                    "Wheelchair accessible": false,
                    "Wi-Fi": true,
                    "index": 198,
                    "max_standing": 0,
                    "supervenue": false,
                    "venue_name": "gridiron building"
                  },
                  {
                    "Loud music / events": false,
                    "Promoted / ticketed events": false,
                    "Theatre_max": 20,
                    "U-Shaped_max": 15,
                    "Venue provides alcohol": 0,
                    "Wheelchair accessible": false,
                    "Wi-Fi": true,
                    "index": 243,
                    "max_standing": 0,
                    "supervenue": false,
                    "venue_name": "gridiron building"
                  },
                  {
                    "Loud music / events": false,
                    "Promoted / ticketed events": false,
                    "Theatre_max": 112.7158671587,
                    "U-Shaped_max": 35.0454545455,
                    "Venue provides alcohol": 0,
                    "Wheelchair accessible": false,
                    "Wi-Fi": true,
                    "index": 569,
                    "max_standing": 0,
                    "supervenue": false,
                    "venue_name": "gridiron building"
                  },
                  {
                    "Loud music / events": false,
                    "Promoted / ticketed events": false,
                    "Theatre_max": 112.7158671587,
                    "U-Shaped_max": 35.0454545455,
                    "Venue provides alcohol": 0,
                    "Wheelchair accessible": false,
                    "Wi-Fi": true,
                    "index": 1066,
                    "max_standing": 0,
                    "supervenue": false,
                    "venue_name": "gridiron building"
                  },
                  {
                    "Loud music / events": false,
                    "Promoted / ticketed events": false,
                    "Theatre_max": 20,
                    "U-Shaped_max": 20,
                    "Venue provides alcohol": 0,
                    "Wheelchair accessible": false,
                    "Wi-Fi": true,
                    "index": 1154,
                    "max_standing": 0,
                    "supervenue": false,
                    "venue_name": "gridiron building"
                  },
                  {
                    "Loud music / events": false,
                    "Promoted / ticketed events": false,
                    "Theatre_max": 96,
                    "U-Shaped_max": 35.0454545455,
                    "Venue provides alcohol": 0,
                    "Wheelchair accessible": false,
                    "Wi-Fi": true,
                    "index": 1335,
                    "max_standing": 0,
                    "supervenue": false,
                    "venue_name": "gridiron building"
                  },
                  {
                    "Loud music / events": false,
                    "Promoted / ticketed events": false,
                    "Theatre_max": 112.7158671587,
                    "U-Shaped_max": 35.0454545455,
                    "Venue provides alcohol": 0,
                    "Wheelchair accessible": false,
                    "Wi-Fi": true,
                    "index": 1404,
                    "max_standing": 0,
                    "supervenue": false,
                    "venue_name": "gridiron building"
                  },
                  {
                    "Loud music / events": false,
                    "Promoted / ticketed events": false,
                    "Theatre_max": 112.7158671587,
                    "U-Shaped_max": 35.0454545455,
                    "Venue provides alcohol": 0,
                    "Wheelchair accessible": false,
                    "Wi-Fi": true,
                    "index": 1477,
                    "max_standing": 0,
                    "supervenue": false,
                    "venue_name": "gridiron building"
                  },
                  {
                    "Loud music / events": false,
                    "Promoted / ticketed events": false,
                    "Theatre_max": 40,
                    "U-Shaped_max": 35.0454545455,
                    "Venue provides alcohol": 0,
                    "Wheelchair accessible": false,
                    "Wi-Fi": true,
                    "index": 1856,
                    "max_standing": 0,
                    "supervenue": false,
                    "venue_name": "gridiron building"
                  }
                ],
                "schema": {
                  "fields": [
                    {
                      "name": "index",
                      "type": "integer"
                    },
                    {
                      "name": "venue_name",
                      "type": "string"
                    },
                    {
                      "name": "Loud music / events",
                      "type": "boolean"
                    },
                    {
                      "name": "Venue provides alcohol",
                      "type": "integer"
                    },
                    {
                      "name": "Wi-Fi",
                      "type": "boolean"
                    },
                    {
                      "name": "supervenue",
                      "type": "boolean"
                    },
                    {
                      "name": "U-Shaped_max",
                      "type": "number"
                    },
                    {
                      "name": "max_standing",
                      "type": "integer"
                    },
                    {
                      "name": "Theatre_max",
                      "type": "number"
                    },
                    {
                      "name": "Promoted / ticketed events",
                      "type": "boolean"
                    },
                    {
                      "name": "Wheelchair accessible",
                      "type": "boolean"
                    }
                  ],
                  "pandas_version": "0.20.0",
                  "primaryKey": [
                    "index"
                  ]
                }
              },
              "total_rows": 10
            },
            "text/html": [
              "<div>\n",
              "<style scoped>\n",
              "    .dataframe tbody tr th:only-of-type {\n",
              "        vertical-align: middle;\n",
              "    }\n",
              "\n",
              "    .dataframe tbody tr th {\n",
              "        vertical-align: top;\n",
              "    }\n",
              "\n",
              "    .dataframe thead th {\n",
              "        text-align: right;\n",
              "    }\n",
              "</style>\n",
              "<table border=\"1\" class=\"dataframe\">\n",
              "  <thead>\n",
              "    <tr style=\"text-align: right;\">\n",
              "      <th></th>\n",
              "      <th>venue_name</th>\n",
              "      <th>Loud music / events</th>\n",
              "      <th>Venue provides alcohol</th>\n",
              "      <th>Wi-Fi</th>\n",
              "      <th>supervenue</th>\n",
              "      <th>U-Shaped_max</th>\n",
              "      <th>max_standing</th>\n",
              "      <th>Theatre_max</th>\n",
              "      <th>Promoted / ticketed events</th>\n",
              "      <th>Wheelchair accessible</th>\n",
              "    </tr>\n",
              "  </thead>\n",
              "  <tbody>\n",
              "    <tr>\n",
              "      <th>4</th>\n",
              "      <td>gridiron building</td>\n",
              "      <td>False</td>\n",
              "      <td>0</td>\n",
              "      <td>True</td>\n",
              "      <td>False</td>\n",
              "      <td>35.045455</td>\n",
              "      <td>0</td>\n",
              "      <td>112.715867</td>\n",
              "      <td>False</td>\n",
              "      <td>False</td>\n",
              "    </tr>\n",
              "    <tr>\n",
              "      <th>198</th>\n",
              "      <td>gridiron building</td>\n",
              "      <td>False</td>\n",
              "      <td>0</td>\n",
              "      <td>True</td>\n",
              "      <td>False</td>\n",
              "      <td>35.045455</td>\n",
              "      <td>0</td>\n",
              "      <td>112.715867</td>\n",
              "      <td>False</td>\n",
              "      <td>False</td>\n",
              "    </tr>\n",
              "    <tr>\n",
              "      <th>243</th>\n",
              "      <td>gridiron building</td>\n",
              "      <td>False</td>\n",
              "      <td>0</td>\n",
              "      <td>True</td>\n",
              "      <td>False</td>\n",
              "      <td>15.000000</td>\n",
              "      <td>0</td>\n",
              "      <td>20.000000</td>\n",
              "      <td>False</td>\n",
              "      <td>False</td>\n",
              "    </tr>\n",
              "    <tr>\n",
              "      <th>569</th>\n",
              "      <td>gridiron building</td>\n",
              "      <td>False</td>\n",
              "      <td>0</td>\n",
              "      <td>True</td>\n",
              "      <td>False</td>\n",
              "      <td>35.045455</td>\n",
              "      <td>0</td>\n",
              "      <td>112.715867</td>\n",
              "      <td>False</td>\n",
              "      <td>False</td>\n",
              "    </tr>\n",
              "    <tr>\n",
              "      <th>1066</th>\n",
              "      <td>gridiron building</td>\n",
              "      <td>False</td>\n",
              "      <td>0</td>\n",
              "      <td>True</td>\n",
              "      <td>False</td>\n",
              "      <td>35.045455</td>\n",
              "      <td>0</td>\n",
              "      <td>112.715867</td>\n",
              "      <td>False</td>\n",
              "      <td>False</td>\n",
              "    </tr>\n",
              "    <tr>\n",
              "      <th>1154</th>\n",
              "      <td>gridiron building</td>\n",
              "      <td>False</td>\n",
              "      <td>0</td>\n",
              "      <td>True</td>\n",
              "      <td>False</td>\n",
              "      <td>20.000000</td>\n",
              "      <td>0</td>\n",
              "      <td>20.000000</td>\n",
              "      <td>False</td>\n",
              "      <td>False</td>\n",
              "    </tr>\n",
              "    <tr>\n",
              "      <th>1335</th>\n",
              "      <td>gridiron building</td>\n",
              "      <td>False</td>\n",
              "      <td>0</td>\n",
              "      <td>True</td>\n",
              "      <td>False</td>\n",
              "      <td>35.045455</td>\n",
              "      <td>0</td>\n",
              "      <td>96.000000</td>\n",
              "      <td>False</td>\n",
              "      <td>False</td>\n",
              "    </tr>\n",
              "    <tr>\n",
              "      <th>1404</th>\n",
              "      <td>gridiron building</td>\n",
              "      <td>False</td>\n",
              "      <td>0</td>\n",
              "      <td>True</td>\n",
              "      <td>False</td>\n",
              "      <td>35.045455</td>\n",
              "      <td>0</td>\n",
              "      <td>112.715867</td>\n",
              "      <td>False</td>\n",
              "      <td>False</td>\n",
              "    </tr>\n",
              "    <tr>\n",
              "      <th>1477</th>\n",
              "      <td>gridiron building</td>\n",
              "      <td>False</td>\n",
              "      <td>0</td>\n",
              "      <td>True</td>\n",
              "      <td>False</td>\n",
              "      <td>35.045455</td>\n",
              "      <td>0</td>\n",
              "      <td>112.715867</td>\n",
              "      <td>False</td>\n",
              "      <td>False</td>\n",
              "    </tr>\n",
              "    <tr>\n",
              "      <th>1856</th>\n",
              "      <td>gridiron building</td>\n",
              "      <td>False</td>\n",
              "      <td>0</td>\n",
              "      <td>True</td>\n",
              "      <td>False</td>\n",
              "      <td>35.045455</td>\n",
              "      <td>0</td>\n",
              "      <td>40.000000</td>\n",
              "      <td>False</td>\n",
              "      <td>False</td>\n",
              "    </tr>\n",
              "  </tbody>\n",
              "</table>\n",
              "</div>"
            ],
            "text/plain": [
              "             venue_name  Loud music / events  Venue provides alcohol  Wi-Fi  \\\n",
              "4     gridiron building                False                       0   True   \n",
              "198   gridiron building                False                       0   True   \n",
              "243   gridiron building                False                       0   True   \n",
              "569   gridiron building                False                       0   True   \n",
              "1066  gridiron building                False                       0   True   \n",
              "1154  gridiron building                False                       0   True   \n",
              "1335  gridiron building                False                       0   True   \n",
              "1404  gridiron building                False                       0   True   \n",
              "1477  gridiron building                False                       0   True   \n",
              "1856  gridiron building                False                       0   True   \n",
              "\n",
              "      supervenue  U-Shaped_max  max_standing  Theatre_max  \\\n",
              "4          False     35.045455             0   112.715867   \n",
              "198        False     35.045455             0   112.715867   \n",
              "243        False     15.000000             0    20.000000   \n",
              "569        False     35.045455             0   112.715867   \n",
              "1066       False     35.045455             0   112.715867   \n",
              "1154       False     20.000000             0    20.000000   \n",
              "1335       False     35.045455             0    96.000000   \n",
              "1404       False     35.045455             0   112.715867   \n",
              "1477       False     35.045455             0   112.715867   \n",
              "1856       False     35.045455             0    40.000000   \n",
              "\n",
              "      Promoted / ticketed events  Wheelchair accessible  \n",
              "4                          False                  False  \n",
              "198                        False                  False  \n",
              "243                        False                  False  \n",
              "569                        False                  False  \n",
              "1066                       False                  False  \n",
              "1154                       False                  False  \n",
              "1335                       False                  False  \n",
              "1404                       False                  False  \n",
              "1477                       False                  False  \n",
              "1856                       False                  False  "
            ]
          },
          "execution_count": 7,
          "metadata": {},
          "output_type": "execute_result"
        }
      ],
      "source": [
        "df[df.venue_name == 'gridiron building']"
      ]
    },
    {
      "cell_type": "markdown",
      "id": "3ac6876d-786a-438e-9d57-ddc5ee13e796",
      "metadata": {
        "id": "3ac6876d-786a-438e-9d57-ddc5ee13e796"
      },
      "source": [
        "Some records share exactly the same exact values. Duplicates shall be dropped. Afterwards, we investigate for class imbalance."
      ]
    },
    {
      "cell_type": "code",
      "execution_count": null,
      "id": "a2c05215-f1f9-4c5d-be6d-dad9383cfeba",
      "metadata": {
        "id": "a2c05215-f1f9-4c5d-be6d-dad9383cfeba"
      },
      "outputs": [],
      "source": [
        "df = df.drop_duplicates()"
      ]
    },
    {
      "cell_type": "code",
      "execution_count": null,
      "id": "4b609f3d-1af4-44b3-b10b-9a830bb2a912",
      "metadata": {
        "id": "4b609f3d-1af4-44b3-b10b-9a830bb2a912",
        "outputId": "a3e3d2be-acc9-4877-e141-9f0b6b818845"
      },
      "outputs": [
        {
          "data": {
            "text/plain": [
              "True     0.521098\n",
              "False    0.478902\n",
              "Name: Wheelchair accessible, dtype: float64"
            ]
          },
          "execution_count": 9,
          "metadata": {},
          "output_type": "execute_result"
        }
      ],
      "source": [
        "df['Wheelchair accessible'].value_counts(normalize = True)"
      ]
    },
    {
      "cell_type": "markdown",
      "id": "d72ec202-e1c4-446a-bb2a-9d0fe532a88d",
      "metadata": {
        "id": "d72ec202-e1c4-446a-bb2a-9d0fe532a88d"
      },
      "source": [
        "There is indeed some class imbaalance, though it shouldn't be desruptive enough for our machine learning model. Next up, we train a \"dummy\" XGBoost model to view the feature importances to our target."
      ]
    },
    {
      "cell_type": "code",
      "execution_count": null,
      "id": "2a290e78-3715-4063-826d-c828ba3ee976",
      "metadata": {
        "id": "2a290e78-3715-4063-826d-c828ba3ee976",
        "outputId": "673fc8bc-8426-40aa-e889-4e739e023edc"
      },
      "outputs": [
        {
          "name": "stdout",
          "output_type": "stream",
          "text": [
            "[08:45:46] WARNING: ../src/learner.cc:541: \n",
            "Parameters: { verbose } might not be used.\n",
            "\n",
            "  This may not be accurate due to some parameters are only used in language bindings but\n",
            "  passed down to XGBoost core.  Or some parameters are not used but slip through this\n",
            "  verification. Please open an issue if you find above cases.\n",
            "\n",
            "\n",
            "[08:45:46] WARNING: ../src/learner.cc:1061: Starting in XGBoost 1.3.0, the default evaluation metric used with the objective 'binary:logistic' was changed from 'error' to 'logloss'. Explicitly set eval_metric if you'd like to restore the old behavior.\n"
          ]
        },
        {
          "data": {
            "image/png": "[encoded data removed]",
            "text/plain": [
              "<Figure size 432x288 with 1 Axes>"
            ]
          },
          "metadata": {
            "needs_background": "light"
          },
          "output_type": "display_data"
        }
      ],
      "source": [
        "dummy_model = xgb.XGBClassifier(verbose = False)\n",
        "\n",
        "dumb_X = df.drop(['Wheelchair accessible', 'venue_name'], axis = 1)\n",
        "dumb_y = df['Wheelchair accessible']\n",
        "\n",
        "dummy_model.fit(dumb_X,dumb_y)\n",
        "xgb.plot_importance(dummy_model);"
      ]
    },
    {
      "cell_type": "markdown",
      "id": "928b9cef-2777-4233-8345-a2d18f392cd2",
      "metadata": {
        "id": "928b9cef-2777-4233-8345-a2d18f392cd2"
      },
      "source": [
        "From what it looks like, the most important feature that decides whether or not a venues is wheelchair accessible is the total standing capacity of the venue, followed by the the total capacity of the theatre and the total capacity of the u-shaped portion of the theatre. These three features seem to be much more important predictors than the other features. Whether the event was promoted, involved loud music, and provded alcohol are also predictors, though not as strong as the previous three.\n",
        "\n",
        "With those important features in mind, let us investigate the data with a strong emphasis on the three most important features. First of all we shall look for the distribution of these features."
      ]
    },
    {
      "cell_type": "code",
      "execution_count": null,
      "id": "d36a9bfe-a979-41d2-b17c-2e177f4b668a",
      "metadata": {
        "id": "d36a9bfe-a979-41d2-b17c-2e177f4b668a",
        "outputId": "ac21dc5a-5e42-4fa7-f41e-7248d5b7734d"
      },
      "outputs": [
        {
          "data": {
            "image/png": "[encoded data removed]",
            "text/plain": [
              "<Figure size 1008x648 with 3 Axes>"
            ]
          },
          "metadata": {},
          "output_type": "display_data"
        }
      ],
      "source": [
        "sns.set_style(\"whitegrid\")\n",
        "\n",
        "\n",
        "fig, axes = plt.subplots(1, 3, figsize = (14,9))\n",
        "\n",
        "sns.distplot(df['max_standing'], ax = axes[0])\n",
        "sns.distplot(df['Theatre_max'], ax =axes[1])\n",
        "sns.distplot(df['U-Shaped_max'], ax = axes[2])\n",
        "\n",
        "axes[0].set_title('Distribution of Max_Standing')\n",
        "axes[1].set_title('Distribution of Theatre_max')\n",
        "axes[2].set_title('Distribution of U-shaped_max');"
      ]
    },
    {
      "cell_type": "markdown",
      "id": "d4d7ca71-1db7-425d-8398-33644e75b102",
      "metadata": {
        "id": "d4d7ca71-1db7-425d-8398-33644e75b102"
      },
      "source": [
        "It seems like all three features are very skewed and not quite normal. It's probably best to use a model that handles outliers well and does not require a normally distributed range of values. To investigate the relationships further, we make a violin plot and calculate some summary statistics to get an idea for the spread of the data."
      ]
    },
    {
      "cell_type": "code",
      "execution_count": null,
      "id": "a51527bb-359d-4529-982e-bbd8f80050f5",
      "metadata": {
        "id": "a51527bb-359d-4529-982e-bbd8f80050f5",
        "outputId": "94517258-494e-4a65-aa66-c3b3e388ddca"
      },
      "outputs": [
        {
          "data": {
            "image/png": "[encoded data removed]",
            "text/plain": [
              "<Figure size 1152x576 with 3 Axes>"
            ]
          },
          "metadata": {},
          "output_type": "display_data"
        }
      ],
      "source": [
        "fig, axes = plt.subplots(1, 3, figsize = (16,8))\n",
        "\n",
        "sns.violinplot(data = df, x = 'Wheelchair accessible', y = 'Theatre_max', ax =axes[0], inner = None)\n",
        "sns.violinplot(data = df, x = 'Wheelchair accessible', y = 'max_standing', ax =axes[1], inner = None)\n",
        "sns.violinplot(data = df, x = 'Wheelchair accessible', y = 'U-Shaped_max', ax =axes[2], inner = None)\n",
        "\n",
        "axes[0].set_title('Violinplot of \"Wheelchair accessible\" vs \"Theatre_max\"')\n",
        "axes[1].set_title('Violinplot of \"Wheelchair accessible\" vs \"max_standing\"')\n",
        "axes[2].set_title('Violinplot of \"Wheelchair accessible\" vs \"U-Shaped_max\"');"
      ]
    },
    {
      "cell_type": "code",
      "execution_count": null,
      "id": "b875ce1e-4009-4a30-a966-ce57538906d6",
      "metadata": {
        "id": "b875ce1e-4009-4a30-a966-ce57538906d6",
        "outputId": "9bccfdb9-a877-4971-df7d-1235ec5013a8"
      },
      "outputs": [
        {
          "data": {
            "text/html": [
              "<div>\n",
              "<style scoped>\n",
              "    .dataframe tbody tr th:only-of-type {\n",
              "        vertical-align: middle;\n",
              "    }\n",
              "\n",
              "    .dataframe tbody tr th {\n",
              "        vertical-align: top;\n",
              "    }\n",
              "\n",
              "    .dataframe thead tr th {\n",
              "        text-align: left;\n",
              "    }\n",
              "</style>\n",
              "<table border=\"1\" class=\"dataframe\">\n",
              "  <thead>\n",
              "    <tr>\n",
              "      <th></th>\n",
              "      <th>Wheelchair accessible</th>\n",
              "      <th colspan=\"3\" halign=\"left\">Theatre_max</th>\n",
              "      <th colspan=\"3\" halign=\"left\">max_standing</th>\n",
              "      <th colspan=\"3\" halign=\"left\">U-Shaped_max</th>\n",
              "    </tr>\n",
              "    <tr>\n",
              "      <th></th>\n",
              "      <th></th>\n",
              "      <th>median</th>\n",
              "      <th>std</th>\n",
              "      <th>mean</th>\n",
              "      <th>median</th>\n",
              "      <th>std</th>\n",
              "      <th>mean</th>\n",
              "      <th>median</th>\n",
              "      <th>std</th>\n",
              "      <th>mean</th>\n",
              "    </tr>\n",
              "  </thead>\n",
              "  <tbody>\n",
              "    <tr>\n",
              "      <th>0</th>\n",
              "      <td>False</td>\n",
              "      <td>112.715867</td>\n",
              "      <td>61.881722</td>\n",
              "      <td>99.178957</td>\n",
              "      <td>50</td>\n",
              "      <td>205.152138</td>\n",
              "      <td>88.500302</td>\n",
              "      <td>35.045455</td>\n",
              "      <td>9.821951</td>\n",
              "      <td>33.734131</td>\n",
              "    </tr>\n",
              "    <tr>\n",
              "      <th>1</th>\n",
              "      <td>True</td>\n",
              "      <td>112.715867</td>\n",
              "      <td>181.714249</td>\n",
              "      <td>126.254199</td>\n",
              "      <td>80</td>\n",
              "      <td>340.128690</td>\n",
              "      <td>161.212424</td>\n",
              "      <td>35.045455</td>\n",
              "      <td>63.908435</td>\n",
              "      <td>36.342661</td>\n",
              "    </tr>\n",
              "  </tbody>\n",
              "</table>\n",
              "</div>"
            ],
            "text/plain": [
              "  Wheelchair accessible Theatre_max                         max_standing  \\\n",
              "                             median         std        mean       median   \n",
              "0                 False  112.715867   61.881722   99.178957           50   \n",
              "1                  True  112.715867  181.714249  126.254199           80   \n",
              "\n",
              "                          U-Shaped_max                        \n",
              "          std        mean       median        std       mean  \n",
              "0  205.152138   88.500302    35.045455   9.821951  33.734131  \n",
              "1  340.128690  161.212424    35.045455  63.908435  36.342661  "
            ]
          },
          "execution_count": 13,
          "metadata": {},
          "output_type": "execute_result"
        }
      ],
      "source": [
        "summary_stats = df.groupby(['Wheelchair accessible'])['Theatre_max','max_standing','U-Shaped_max'].agg({np.mean,  np.median, np.std}).reset_index()\n",
        "summary_stats"
      ]
    },
    {
      "cell_type": "code",
      "execution_count": null,
      "id": "0f43d2c6-64bb-45b4-a4d6-b08d7d642d78",
      "metadata": {
        "id": "0f43d2c6-64bb-45b4-a4d6-b08d7d642d78",
        "outputId": "ff8b59c7-30c6-4967-f612-a77bba3ad558"
      },
      "outputs": [
        {
          "data": {
            "image/png": "[encoded data removed]",
            "text/plain": [
              "<Figure size 432x288 with 1 Axes>"
            ]
          },
          "metadata": {},
          "output_type": "display_data"
        }
      ],
      "source": [
        "#The barplots below are for the oral presentation, they are just visualizations for the summary statistics\n",
        "sns.set_context(\"talk\")\n",
        "ax = sns.barplot(data = df, x = 'Wheelchair accessible', y = 'Theatre_max', estimator = np.mean, ci =False);\n",
        "ax.set_ylabel('Total capacity of theatre');\n",
        "ax.set_title('Mean value difference (Total Theatre capacity)');\n",
        "\n"
      ]
    },
    {
      "cell_type": "code",
      "execution_count": null,
      "id": "c7372a61-e002-428c-a9f5-94d769550438",
      "metadata": {
        "id": "c7372a61-e002-428c-a9f5-94d769550438",
        "outputId": "b1246ba1-46da-4e55-8eff-a73d441ecb88"
      },
      "outputs": [
        {
          "data": {
            "image/png": "[encoded data removed]",
            "text/plain": [
              "<Figure size 432x288 with 1 Axes>"
            ]
          },
          "metadata": {},
          "output_type": "display_data"
        }
      ],
      "source": [
        "\n",
        "sns.set_context(\"talk\")\n",
        "ax = sns.barplot(data = df, x = 'Wheelchair accessible', y = 'max_standing',estimator = np.mean, ci =False);\n",
        "ax.set_ylabel('Total standing capacity of venue')\n",
        "ax.set_title('Mean value difference (Standing capacity)');\n",
        "\n"
      ]
    },
    {
      "cell_type": "code",
      "execution_count": null,
      "id": "c5ade18a-edc2-4bd2-8520-326cb139c781",
      "metadata": {
        "id": "c5ade18a-edc2-4bd2-8520-326cb139c781",
        "outputId": "8cd122e3-2aa5-45c9-aaf6-0db77b2b714e"
      },
      "outputs": [
        {
          "data": {
            "image/png": "[encoded data removed]",
            "text/plain": [
              "<Figure size 432x288 with 1 Axes>"
            ]
          },
          "metadata": {},
          "output_type": "display_data"
        }
      ],
      "source": [
        "\n",
        "sns.set_context(\"talk\")\n",
        "ax = sns.barplot(data = df, x = 'Wheelchair accessible', y = 'U-Shaped_max', estimator = np.mean,  ci =False);\n",
        "ax.set_ylabel('Total capacity of U-shape');\n",
        "ax.set_title('Mean value difference (U-Shaped portion capacity)');\n"
      ]
    },
    {
      "cell_type": "code",
      "execution_count": null,
      "id": "28d59537-4b82-4a1c-8f9f-4a3482ff7ae1",
      "metadata": {
        "id": "28d59537-4b82-4a1c-8f9f-4a3482ff7ae1",
        "outputId": "ae9329d5-11d4-4729-bdb6-9600f63132e5"
      },
      "outputs": [
        {
          "data": {
            "image/png": "[encoded data removed]",
            "text/plain": [
              "<Figure size 432x288 with 1 Axes>"
            ]
          },
          "metadata": {},
          "output_type": "display_data"
        }
      ],
      "source": [
        "#For presentation\n",
        "sns.set_context(\"talk\")\n",
        "ax = sns.barplot(data = df, x = 'Wheelchair accessible', y = 'Theatre_max', estimator = np.median,  ci =False);\n",
        "ax.set_ylabel('Total capacity of theatre');\n",
        "ax.set_title('Median value difference (Total Theatre capacity)');\n"
      ]
    },
    {
      "cell_type": "code",
      "execution_count": null,
      "id": "3db2b82c-5382-4657-8d81-c09916d23b9a",
      "metadata": {
        "id": "3db2b82c-5382-4657-8d81-c09916d23b9a",
        "outputId": "8af54193-5982-4ef1-cc43-f841d5a79aec"
      },
      "outputs": [
        {
          "data": {
            "image/png": "[encoded data removed]",
            "text/plain": [
              "<Figure size 432x288 with 1 Axes>"
            ]
          },
          "metadata": {},
          "output_type": "display_data"
        }
      ],
      "source": [
        "sns.set_context(\"talk\")\n",
        "ax = sns.barplot(data = df, x = 'Wheelchair accessible', y = 'max_standing', estimator = np.median,  ci =False);\n",
        "ax.set_ylabel('Total standing capacity')\n",
        "ax.set_title('Median value difference (Standing capacity)');\n"
      ]
    },
    {
      "cell_type": "code",
      "execution_count": null,
      "id": "a4cee69b-dbc3-411a-9386-045e48768c6a",
      "metadata": {
        "id": "a4cee69b-dbc3-411a-9386-045e48768c6a",
        "outputId": "6cdaaa14-dbb6-4246-fec8-9005c49c281c"
      },
      "outputs": [
        {
          "data": {
            "image/png": "[encoded data removed]",
            "text/plain": [
              "<Figure size 432x288 with 1 Axes>"
            ]
          },
          "metadata": {},
          "output_type": "display_data"
        }
      ],
      "source": [
        "sns.set_context(\"talk\")\n",
        "\n",
        "ax = sns.barplot(data = df, x = 'Wheelchair accessible', y = 'U-Shaped_max', estimator = np.median,  ci =False);\n",
        "ax.set_ylabel('Capacity of U-shaped portion');\n",
        "ax.set_title('Median value difference (U-Shaped portion)');\n"
      ]
    },
    {
      "cell_type": "markdown",
      "id": "b795c337-afdb-408e-98c9-34366e8b880e",
      "metadata": {
        "id": "b795c337-afdb-408e-98c9-34366e8b880e"
      },
      "source": [
        "The violin plots describe the distribution of the three most important features in accordance to whether or not the venue was wheelchair accessible. Some features of the violin plots confirms what we observed with the distribution plots.\n",
        "\n",
        "Notable observations:\n",
        "\n",
        "1. Most records in the dataset have relatively low values for the three features.\n",
        "2. For all three features, there exists substantial outliers as shown by the long \"whiskers\" of the violin plots.\n",
        "3. For all three variables, \"wheelchair accessible\" venues tend to fall into a more equally distrbuted range than the \"Non-wheelchair venues\" as \n",
        "   the main bodies of the violin plots of \"non-wheelchair accessible\" venues tend to be more \"vertically compressed\".\n",
        "4. The outliers of \"accessible venues\" are more drastic than the ones for non-wheelchair accessible venues, as evidenced by the longer whiskers for  for all three features. \n",
        "\n",
        "The cell below which calculates the summary statistics are also interesting. Apparently the median value for both 'Theatre_max' and 'U-Shaped_max' are exactly the same for both cases, but the means are different. This shows how strong the outliers in the wheelchair accessible venues are in affecting the mean (and the spread of the data). For 'Theatre_max' the mean is nearly 30 units different.  \n",
        "\n",
        "Now we turn our heads to the next three most important features that were detected: 'Promoted / ticketed events', 'Loud music / events', and 'Venue provides alcohol'. The barplot shown below is the number of wheelchair accessible/inaccessbile venue hue-seperated by whether they had all three of these features or none of them at all. Below I call these features ('Promoted / ticketed events', 'Loud music / events', and 'Wi-Fi') as \"extra features\"."
      ]
    },
    {
      "cell_type": "code",
      "execution_count": null,
      "id": "32e66028-677c-4a7f-b428-079ad6b11c4e",
      "metadata": {
        "id": "32e66028-677c-4a7f-b428-079ad6b11c4e",
        "outputId": "609dd8a2-2f3b-443b-d442-5a5785dedfcf"
      },
      "outputs": [
        {
          "data": {
            "image/png": "[encoded data removed]",
            "text/plain": [
              "<Figure size 720x360 with 1 Axes>"
            ]
          },
          "metadata": {},
          "output_type": "display_data"
        }
      ],
      "source": [
        "#For presentation\n",
        "\n",
        "gb_other_features = df.groupby(['Wheelchair accessible','Promoted / ticketed events', 'Loud music / events', 'Venue provides alcohol'])['venue_name'].count().reset_index()\n",
        "gb_other_features = gb_other_features.rename(columns = {'venue_name' : 'counts'})\n",
        "df1 = pd.DataFrame({\"Wheelchair accessible\" : [True, True,False, False], 'Extra Features' : ['All', 'None', 'All', 'None']})\n",
        "\n",
        "t_t_count = gb_other_features.loc[15, 'counts']\n",
        "t_f_count = gb_other_features.loc[8, 'counts']\n",
        "f_t_count = gb_other_features.loc[7, 'counts']\n",
        "f_f_count = gb_other_features.loc[0, 'counts']\n",
        "\n",
        "df1['count'] = [t_t_count, t_f_count, f_t_count, f_f_count]\n",
        "sns.set_context(\"talk\")\n",
        "fig, ax = plt.subplots(1,1,figsize=(10,5))\n",
        "ax = sns.barplot(data=df1, x = 'Wheelchair accessible' , y =  'count' , hue = 'Extra Features')\n",
        "ax.set_ylabel('Number of Observations')\n",
        "ax.set_title('Impact of \"extra features\"');\n"
      ]
    },
    {
      "cell_type": "markdown",
      "id": "0127e795-4f7a-46e5-aade-8e4b64c84d75",
      "metadata": {
        "id": "0127e795-4f7a-46e5-aade-8e4b64c84d75"
      },
      "source": [
        "From the plot above, the data shows that most wheelchair accessible venues tend to have all of the \"extra features\" while most wheelchair inaccessible venues tend to have none of these \"extra features\". These extra features share similar F-scores as calculated by our dummy XGBoost model, and I decided to combine them into one feature to prevent overfitting. "
      ]
    },
    {
      "cell_type": "markdown",
      "id": "1fe8d5d1-32ee-4055-a404-fd0d4d76ad10",
      "metadata": {
        "id": "1fe8d5d1-32ee-4055-a404-fd0d4d76ad10"
      },
      "source": [
        "### Feature Engineering "
      ]
    },
    {
      "cell_type": "markdown",
      "id": "a24334e4-7acd-48cb-8cdf-32b5856b785f",
      "metadata": {
        "id": "a24334e4-7acd-48cb-8cdf-32b5856b785f"
      },
      "source": [
        "The first thing I decided to do was to drop the name of the venue as well as the three least important features in the dataset. As an extra measure, I also decided to change all True/False values to 1's and 0's. After experimenting, I found that adding up all the \"extra features\" yielded the best model performance. \n",
        "\n",
        "The case study document mentioned that it is ideal to have at least two-thirds of venues predicted to be without a ramp to not have a ramp. In order to avoid confusion (double-negatives) and make it easier to intrepret cross validation, I decided to change the target to be \"needs_ramp\", which is \"True\" when 'Wheelchair accessible' is \"False\" and \"False\" when \"Wheelchair accessible\" is True. \n"
      ]
    },
    {
      "cell_type": "code",
      "execution_count": null,
      "id": "2497993c-7bfa-4cb2-9b96-5cb5474b13e2",
      "metadata": {
        "id": "2497993c-7bfa-4cb2-9b96-5cb5474b13e2",
        "outputId": "f4bb60f9-4249-4721-f971-3a18a2a318fa"
      },
      "outputs": [
        {
          "data": {
            "application/com.datacamp.data-table.v1+json": {
              "is_truncated": false,
              "table": {
                "data": [
                  {
                    "Theatre_max": 112.7158671587,
                    "U-Shaped_max": 35.0454545455,
                    "extra_features": 0,
                    "index": 0,
                    "max_standing": 0
                  },
                  {
                    "Theatre_max": 80,
                    "U-Shaped_max": 40,
                    "extra_features": 3,
                    "index": 1,
                    "max_standing": 120
                  },
                  {
                    "Theatre_max": 112.7158671587,
                    "U-Shaped_max": 35.0454545455,
                    "extra_features": 0,
                    "index": 2,
                    "max_standing": 0
                  },
                  {
                    "Theatre_max": 60,
                    "U-Shaped_max": 35.0454545455,
                    "extra_features": 0,
                    "index": 3,
                    "max_standing": 60
                  },
                  {
                    "Theatre_max": 112.7158671587,
                    "U-Shaped_max": 35.0454545455,
                    "extra_features": 0,
                    "index": 4,
                    "max_standing": 0
                  }
                ],
                "schema": {
                  "fields": [
                    {
                      "name": "index",
                      "type": "integer"
                    },
                    {
                      "name": "U-Shaped_max",
                      "type": "number"
                    },
                    {
                      "name": "max_standing",
                      "type": "integer"
                    },
                    {
                      "name": "Theatre_max",
                      "type": "number"
                    },
                    {
                      "name": "extra_features",
                      "type": "integer"
                    }
                  ],
                  "pandas_version": "0.20.0",
                  "primaryKey": [
                    "index"
                  ]
                }
              },
              "total_rows": 5
            },
            "text/html": [
              "<div>\n",
              "<style scoped>\n",
              "    .dataframe tbody tr th:only-of-type {\n",
              "        vertical-align: middle;\n",
              "    }\n",
              "\n",
              "    .dataframe tbody tr th {\n",
              "        vertical-align: top;\n",
              "    }\n",
              "\n",
              "    .dataframe thead th {\n",
              "        text-align: right;\n",
              "    }\n",
              "</style>\n",
              "<table border=\"1\" class=\"dataframe\">\n",
              "  <thead>\n",
              "    <tr style=\"text-align: right;\">\n",
              "      <th></th>\n",
              "      <th>U-Shaped_max</th>\n",
              "      <th>max_standing</th>\n",
              "      <th>Theatre_max</th>\n",
              "      <th>extra_features</th>\n",
              "    </tr>\n",
              "  </thead>\n",
              "  <tbody>\n",
              "    <tr>\n",
              "      <th>0</th>\n",
              "      <td>35.045455</td>\n",
              "      <td>0</td>\n",
              "      <td>112.715867</td>\n",
              "      <td>0</td>\n",
              "    </tr>\n",
              "    <tr>\n",
              "      <th>1</th>\n",
              "      <td>40.000000</td>\n",
              "      <td>120</td>\n",
              "      <td>80.000000</td>\n",
              "      <td>3</td>\n",
              "    </tr>\n",
              "    <tr>\n",
              "      <th>2</th>\n",
              "      <td>35.045455</td>\n",
              "      <td>0</td>\n",
              "      <td>112.715867</td>\n",
              "      <td>0</td>\n",
              "    </tr>\n",
              "    <tr>\n",
              "      <th>3</th>\n",
              "      <td>35.045455</td>\n",
              "      <td>60</td>\n",
              "      <td>60.000000</td>\n",
              "      <td>0</td>\n",
              "    </tr>\n",
              "    <tr>\n",
              "      <th>4</th>\n",
              "      <td>35.045455</td>\n",
              "      <td>0</td>\n",
              "      <td>112.715867</td>\n",
              "      <td>0</td>\n",
              "    </tr>\n",
              "  </tbody>\n",
              "</table>\n",
              "</div>"
            ],
            "text/plain": [
              "   U-Shaped_max  max_standing  Theatre_max  extra_features\n",
              "0     35.045455             0   112.715867               0\n",
              "1     40.000000           120    80.000000               3\n",
              "2     35.045455             0   112.715867               0\n",
              "3     35.045455            60    60.000000               0\n",
              "4     35.045455             0   112.715867               0"
            ]
          },
          "execution_count": 21,
          "metadata": {},
          "output_type": "execute_result"
        }
      ],
      "source": [
        "#Drop unnecessary features that did not have high F-scores as well as the venue names.\n",
        "feed = df.copy()\n",
        "feed = df.drop(['venue_name', 'Wi-Fi','supervenue'], axis = 1)\n",
        "\n",
        "\n",
        "#Make sure all three \"extra features\" are changed to integers.\n",
        "feed['Loud music / events'] = feed['Loud music / events'].apply(lambda x: 1 if x == True else 0) \n",
        "feed['Promoted / ticketed events'] = feed['Promoted / ticketed events'].apply(lambda x: 1 if x == True else 0) \n",
        "\n",
        "#Feature engineering: sum of all extra features\n",
        "feed['extra_features'] = feed['Loud music / events'] + feed['Promoted / ticketed events'] + feed['Venue provides alcohol']\n",
        "\n",
        "\n",
        "\n",
        "#Change the target to make it less confusing during cross validation. The \"positive class\" shall be whether the event needed a ramp\n",
        "feed['Wheelchair accessible'] = feed['Wheelchair accessible'].apply(lambda x: 1 if x == True else 0) \n",
        "feed['needs_ramp'] = feed['Wheelchair accessible'].apply(lambda x: 0 if x == 1 else 1)\n",
        "\n",
        "#drop all the features that have been changed\n",
        "feed = feed.drop(['Wheelchair accessible','Promoted / ticketed events', 'Loud music / events' ,'Venue provides alcohol' ], axis =1 )\n",
        "\n",
        "X = feed.drop(['needs_ramp'], axis =1)\n",
        "y = feed['needs_ramp']\n",
        "X.head()"
      ]
    },
    {
      "cell_type": "markdown",
      "id": "0c76f1ba-aa49-43d3-af2d-dd6864112b9c",
      "metadata": {
        "id": "0c76f1ba-aa49-43d3-af2d-dd6864112b9c"
      },
      "source": [
        "### Model Building\n",
        "\n",
        "For the model, I decided to go with XGBoost classifier for these reasons:\n",
        "\n",
        "1. It is quite robust to outliers, so there is no need for scaling beforehand\n",
        "2. It is well known for its high performance with fairly little model tuning\n",
        "3. We have a classification problem (duh)\n",
        "\n",
        "As our initial model, I decided to go with XGBoost model with 900 estimators and 3 for depth, as well as 0.25 for colsample_bytree and colsample_bylevel. An initial diagnostic is done on some randomly generated training and test set by examining its logloss."
      ]
    },
    {
      "cell_type": "code",
      "execution_count": null,
      "id": "408a3055-5e8c-4da8-820f-99c01572e4a5",
      "metadata": {
        "id": "408a3055-5e8c-4da8-820f-99c01572e4a5"
      },
      "outputs": [],
      "source": [
        "#Imports for machine learning\n",
        "\n",
        "from sklearn.model_selection import RandomizedSearchCV\n",
        "from sklearn.model_selection import train_test_split\n",
        "from sklearn.model_selection import cross_validate\n"
      ]
    },
    {
      "cell_type": "code",
      "execution_count": null,
      "id": "4fe3a8d4-2d4e-4df0-8a83-3ce270e46a5d",
      "metadata": {
        "id": "4fe3a8d4-2d4e-4df0-8a83-3ce270e46a5d"
      },
      "outputs": [],
      "source": [
        "#Train test split to configure our initial model.\n",
        "\n",
        "X_train, X_test, y_train, y_test  = train_test_split(X,y,random_state = 42, test_size = 0.2)\n"
      ]
    },
    {
      "cell_type": "code",
      "execution_count": null,
      "id": "a9ef689e-30dd-446a-a1f3-7cb32656aa6c",
      "metadata": {
        "id": "a9ef689e-30dd-446a-a1f3-7cb32656aa6c",
        "outputId": "65fc5786-f6e1-4a19-fceb-cdaf3cb05218"
      },
      "outputs": [
        {
          "name": "stdout",
          "output_type": "stream",
          "text": [
            "[08:45:50] WARNING: ../src/learner.cc:541: \n",
            "Parameters: { depth, verbose } might not be used.\n",
            "\n",
            "  This may not be accurate due to some parameters are only used in language bindings but\n",
            "  passed down to XGBoost core.  Or some parameters are not used but slip through this\n",
            "  verification. Please open an issue if you find above cases.\n",
            "\n",
            "\n",
            "[08:45:50] WARNING: ../src/learner.cc:1061: Starting in XGBoost 1.3.0, the default evaluation metric used with the objective 'binary:logistic' was changed from 'error' to 'logloss'. Explicitly set eval_metric if you'd like to restore the old behavior.\n",
            "[0]\tvalidation_0-logloss:0.68556\tvalidation_1-logloss:0.68854\n",
            "[1]\tvalidation_0-logloss:0.65813\tvalidation_1-logloss:0.66184\n",
            "[2]\tvalidation_0-logloss:0.65111\tvalidation_1-logloss:0.65582\n",
            "[3]\tvalidation_0-logloss:0.64696\tvalidation_1-logloss:0.65245\n",
            "[4]\tvalidation_0-logloss:0.63519\tvalidation_1-logloss:0.64123\n",
            "[5]\tvalidation_0-logloss:0.62826\tvalidation_1-logloss:0.63538\n",
            "[6]\tvalidation_0-logloss:0.62636\tvalidation_1-logloss:0.63552\n",
            "[7]\tvalidation_0-logloss:0.61853\tvalidation_1-logloss:0.63328\n",
            "[8]\tvalidation_0-logloss:0.61728\tvalidation_1-logloss:0.63272\n",
            "[9]\tvalidation_0-logloss:0.61391\tvalidation_1-logloss:0.62969\n",
            "[10]\tvalidation_0-logloss:0.61165\tvalidation_1-logloss:0.62788\n",
            "[11]\tvalidation_0-logloss:0.60992\tvalidation_1-logloss:0.62748\n",
            "[12]\tvalidation_0-logloss:0.60790\tvalidation_1-logloss:0.62634\n",
            "[13]\tvalidation_0-logloss:0.60688\tvalidation_1-logloss:0.62592\n",
            "[14]\tvalidation_0-logloss:0.60575\tvalidation_1-logloss:0.62673\n",
            "[15]\tvalidation_0-logloss:0.60180\tvalidation_1-logloss:0.62720\n",
            "[16]\tvalidation_0-logloss:0.59937\tvalidation_1-logloss:0.62731\n",
            "[17]\tvalidation_0-logloss:0.59845\tvalidation_1-logloss:0.62709\n",
            "[18]\tvalidation_0-logloss:0.59793\tvalidation_1-logloss:0.62689\n",
            "[19]\tvalidation_0-logloss:0.59597\tvalidation_1-logloss:0.62823\n",
            "[20]\tvalidation_0-logloss:0.59523\tvalidation_1-logloss:0.62821\n",
            "[21]\tvalidation_0-logloss:0.59495\tvalidation_1-logloss:0.62814\n",
            "[22]\tvalidation_0-logloss:0.59448\tvalidation_1-logloss:0.62851\n",
            "[23]\tvalidation_0-logloss:0.59406\tvalidation_1-logloss:0.62871\n",
            "[24]\tvalidation_0-logloss:0.59368\tvalidation_1-logloss:0.62883\n",
            "[25]\tvalidation_0-logloss:0.59231\tvalidation_1-logloss:0.62945\n",
            "[26]\tvalidation_0-logloss:0.59140\tvalidation_1-logloss:0.63081\n",
            "[27]\tvalidation_0-logloss:0.59125\tvalidation_1-logloss:0.63082\n",
            "[28]\tvalidation_0-logloss:0.59060\tvalidation_1-logloss:0.63181\n",
            "[29]\tvalidation_0-logloss:0.58878\tvalidation_1-logloss:0.63139\n",
            "[30]\tvalidation_0-logloss:0.58845\tvalidation_1-logloss:0.63159\n",
            "[31]\tvalidation_0-logloss:0.58819\tvalidation_1-logloss:0.63160\n",
            "[32]\tvalidation_0-logloss:0.58735\tvalidation_1-logloss:0.63111\n",
            "[33]\tvalidation_0-logloss:0.58682\tvalidation_1-logloss:0.63110\n",
            "[34]\tvalidation_0-logloss:0.58656\tvalidation_1-logloss:0.63158\n",
            "[35]\tvalidation_0-logloss:0.58609\tvalidation_1-logloss:0.63207\n",
            "[36]\tvalidation_0-logloss:0.58547\tvalidation_1-logloss:0.63367\n",
            "[37]\tvalidation_0-logloss:0.58505\tvalidation_1-logloss:0.63463\n",
            "[38]\tvalidation_0-logloss:0.58496\tvalidation_1-logloss:0.63465\n",
            "[39]\tvalidation_0-logloss:0.58478\tvalidation_1-logloss:0.63532\n",
            "[40]\tvalidation_0-logloss:0.58468\tvalidation_1-logloss:0.63510\n",
            "[41]\tvalidation_0-logloss:0.58454\tvalidation_1-logloss:0.63541\n",
            "[42]\tvalidation_0-logloss:0.58443\tvalidation_1-logloss:0.63590\n",
            "[43]\tvalidation_0-logloss:0.58435\tvalidation_1-logloss:0.63603\n",
            "[44]\tvalidation_0-logloss:0.58399\tvalidation_1-logloss:0.63609\n",
            "[45]\tvalidation_0-logloss:0.58390\tvalidation_1-logloss:0.63651\n",
            "[46]\tvalidation_0-logloss:0.58370\tvalidation_1-logloss:0.63726\n",
            "[47]\tvalidation_0-logloss:0.58362\tvalidation_1-logloss:0.63737\n",
            "[48]\tvalidation_0-logloss:0.58350\tvalidation_1-logloss:0.63769\n",
            "[49]\tvalidation_0-logloss:0.58345\tvalidation_1-logloss:0.63771\n",
            "[50]\tvalidation_0-logloss:0.58331\tvalidation_1-logloss:0.63798\n",
            "[51]\tvalidation_0-logloss:0.58293\tvalidation_1-logloss:0.63820\n",
            "[52]\tvalidation_0-logloss:0.58285\tvalidation_1-logloss:0.63860\n",
            "[53]\tvalidation_0-logloss:0.58283\tvalidation_1-logloss:0.63863\n",
            "[54]\tvalidation_0-logloss:0.58272\tvalidation_1-logloss:0.63894\n",
            "[55]\tvalidation_0-logloss:0.58264\tvalidation_1-logloss:0.63901\n",
            "[56]\tvalidation_0-logloss:0.58215\tvalidation_1-logloss:0.63901\n",
            "[57]\tvalidation_0-logloss:0.58197\tvalidation_1-logloss:0.63954\n",
            "[58]\tvalidation_0-logloss:0.58162\tvalidation_1-logloss:0.64043\n",
            "[59]\tvalidation_0-logloss:0.58160\tvalidation_1-logloss:0.64046\n",
            "[60]\tvalidation_0-logloss:0.58152\tvalidation_1-logloss:0.64055\n",
            "[61]\tvalidation_0-logloss:0.58144\tvalidation_1-logloss:0.64046\n",
            "[62]\tvalidation_0-logloss:0.58143\tvalidation_1-logloss:0.64049\n",
            "[63]\tvalidation_0-logloss:0.58129\tvalidation_1-logloss:0.64088\n",
            "[64]\tvalidation_0-logloss:0.58129\tvalidation_1-logloss:0.64090\n",
            "[65]\tvalidation_0-logloss:0.58122\tvalidation_1-logloss:0.64119\n",
            "[66]\tvalidation_0-logloss:0.58122\tvalidation_1-logloss:0.64121\n",
            "[67]\tvalidation_0-logloss:0.58121\tvalidation_1-logloss:0.64122\n",
            "[68]\tvalidation_0-logloss:0.58106\tvalidation_1-logloss:0.64164\n",
            "[69]\tvalidation_0-logloss:0.58050\tvalidation_1-logloss:0.64265\n",
            "[70]\tvalidation_0-logloss:0.58012\tvalidation_1-logloss:0.64296\n",
            "[71]\tvalidation_0-logloss:0.57979\tvalidation_1-logloss:0.64296\n",
            "[72]\tvalidation_0-logloss:0.57969\tvalidation_1-logloss:0.64288\n",
            "[73]\tvalidation_0-logloss:0.57960\tvalidation_1-logloss:0.64301\n",
            "[74]\tvalidation_0-logloss:0.57960\tvalidation_1-logloss:0.64302\n",
            "[75]\tvalidation_0-logloss:0.57952\tvalidation_1-logloss:0.64328\n",
            "[76]\tvalidation_0-logloss:0.57937\tvalidation_1-logloss:0.64338\n",
            "[77]\tvalidation_0-logloss:0.57937\tvalidation_1-logloss:0.64340\n",
            "[78]\tvalidation_0-logloss:0.57929\tvalidation_1-logloss:0.64371\n",
            "[79]\tvalidation_0-logloss:0.57923\tvalidation_1-logloss:0.64395\n",
            "[80]\tvalidation_0-logloss:0.57916\tvalidation_1-logloss:0.64409\n",
            "[81]\tvalidation_0-logloss:0.57916\tvalidation_1-logloss:0.64410\n",
            "[82]\tvalidation_0-logloss:0.57910\tvalidation_1-logloss:0.64438\n",
            "[83]\tvalidation_0-logloss:0.57904\tvalidation_1-logloss:0.64443\n",
            "[84]\tvalidation_0-logloss:0.57898\tvalidation_1-logloss:0.64467\n",
            "[85]\tvalidation_0-logloss:0.57867\tvalidation_1-logloss:0.64511\n",
            "[86]\tvalidation_0-logloss:0.57867\tvalidation_1-logloss:0.64512\n",
            "[87]\tvalidation_0-logloss:0.57859\tvalidation_1-logloss:0.64497\n",
            "[88]\tvalidation_0-logloss:0.57841\tvalidation_1-logloss:0.64520\n",
            "[89]\tvalidation_0-logloss:0.57841\tvalidation_1-logloss:0.64520\n",
            "[90]\tvalidation_0-logloss:0.57835\tvalidation_1-logloss:0.64527\n",
            "[91]\tvalidation_0-logloss:0.57835\tvalidation_1-logloss:0.64528\n",
            "[92]\tvalidation_0-logloss:0.57826\tvalidation_1-logloss:0.64548\n",
            "[93]\tvalidation_0-logloss:0.57820\tvalidation_1-logloss:0.64545\n",
            "[94]\tvalidation_0-logloss:0.57813\tvalidation_1-logloss:0.64544\n",
            "[95]\tvalidation_0-logloss:0.57795\tvalidation_1-logloss:0.64553\n",
            "[96]\tvalidation_0-logloss:0.57791\tvalidation_1-logloss:0.64569\n",
            "[97]\tvalidation_0-logloss:0.57783\tvalidation_1-logloss:0.64587\n",
            "[98]\tvalidation_0-logloss:0.57776\tvalidation_1-logloss:0.64599\n",
            "[99]\tvalidation_0-logloss:0.57773\tvalidation_1-logloss:0.64619\n",
            "[100]\tvalidation_0-logloss:0.57773\tvalidation_1-logloss:0.64620\n",
            "[101]\tvalidation_0-logloss:0.57766\tvalidation_1-logloss:0.64631\n",
            "[102]\tvalidation_0-logloss:0.57760\tvalidation_1-logloss:0.64638\n",
            "[103]\tvalidation_0-logloss:0.57760\tvalidation_1-logloss:0.64639\n",
            "[104]\tvalidation_0-logloss:0.57760\tvalidation_1-logloss:0.64639\n",
            "[105]\tvalidation_0-logloss:0.57756\tvalidation_1-logloss:0.64655\n",
            "[106]\tvalidation_0-logloss:0.57747\tvalidation_1-logloss:0.64679\n",
            "[107]\tvalidation_0-logloss:0.57735\tvalidation_1-logloss:0.64681\n",
            "[108]\tvalidation_0-logloss:0.57732\tvalidation_1-logloss:0.64684\n",
            "[109]\tvalidation_0-logloss:0.57707\tvalidation_1-logloss:0.64724\n",
            "[110]\tvalidation_0-logloss:0.57701\tvalidation_1-logloss:0.64747\n",
            "[111]\tvalidation_0-logloss:0.57694\tvalidation_1-logloss:0.64750\n",
            "[112]\tvalidation_0-logloss:0.57690\tvalidation_1-logloss:0.64736\n",
            "[113]\tvalidation_0-logloss:0.57678\tvalidation_1-logloss:0.64746\n",
            "[114]\tvalidation_0-logloss:0.57673\tvalidation_1-logloss:0.64757\n",
            "[115]\tvalidation_0-logloss:0.57668\tvalidation_1-logloss:0.64770\n",
            "[116]\tvalidation_0-logloss:0.57661\tvalidation_1-logloss:0.64779\n",
            "[117]\tvalidation_0-logloss:0.57655\tvalidation_1-logloss:0.64823\n",
            "[118]\tvalidation_0-logloss:0.57649\tvalidation_1-logloss:0.64817\n",
            "[119]\tvalidation_0-logloss:0.57644\tvalidation_1-logloss:0.64824\n",
            "[120]\tvalidation_0-logloss:0.57644\tvalidation_1-logloss:0.64824\n",
            "[121]\tvalidation_0-logloss:0.57644\tvalidation_1-logloss:0.64824\n",
            "[122]\tvalidation_0-logloss:0.57635\tvalidation_1-logloss:0.64817\n",
            "[123]\tvalidation_0-logloss:0.57635\tvalidation_1-logloss:0.64818\n",
            "[124]\tvalidation_0-logloss:0.57631\tvalidation_1-logloss:0.64827\n",
            "[125]\tvalidation_0-logloss:0.57619\tvalidation_1-logloss:0.64844\n",
            "[126]\tvalidation_0-logloss:0.57612\tvalidation_1-logloss:0.64858\n",
            "[127]\tvalidation_0-logloss:0.57612\tvalidation_1-logloss:0.64858\n",
            "[128]\tvalidation_0-logloss:0.57612\tvalidation_1-logloss:0.64858\n",
            "[129]\tvalidation_0-logloss:0.57608\tvalidation_1-logloss:0.64867\n",
            "[130]\tvalidation_0-logloss:0.57593\tvalidation_1-logloss:0.64846\n",
            "[131]\tvalidation_0-logloss:0.57589\tvalidation_1-logloss:0.64845\n",
            "[132]\tvalidation_0-logloss:0.57576\tvalidation_1-logloss:0.64867\n",
            "[133]\tvalidation_0-logloss:0.57576\tvalidation_1-logloss:0.64868\n",
            "[134]\tvalidation_0-logloss:0.57573\tvalidation_1-logloss:0.64869\n",
            "[135]\tvalidation_0-logloss:0.57569\tvalidation_1-logloss:0.64877\n",
            "[136]\tvalidation_0-logloss:0.57561\tvalidation_1-logloss:0.64879\n",
            "[137]\tvalidation_0-logloss:0.57556\tvalidation_1-logloss:0.64864\n",
            "[138]\tvalidation_0-logloss:0.57549\tvalidation_1-logloss:0.64873\n",
            "[139]\tvalidation_0-logloss:0.57542\tvalidation_1-logloss:0.64868\n",
            "[140]\tvalidation_0-logloss:0.57539\tvalidation_1-logloss:0.64862\n",
            "[141]\tvalidation_0-logloss:0.57539\tvalidation_1-logloss:0.64863\n",
            "[142]\tvalidation_0-logloss:0.57531\tvalidation_1-logloss:0.64887\n",
            "[143]\tvalidation_0-logloss:0.57523\tvalidation_1-logloss:0.64906\n",
            "[144]\tvalidation_0-logloss:0.57509\tvalidation_1-logloss:0.64851\n",
            "[145]\tvalidation_0-logloss:0.57503\tvalidation_1-logloss:0.64890\n",
            "[146]\tvalidation_0-logloss:0.57499\tvalidation_1-logloss:0.64899\n",
            "[147]\tvalidation_0-logloss:0.57495\tvalidation_1-logloss:0.64906\n",
            "[148]\tvalidation_0-logloss:0.57488\tvalidation_1-logloss:0.64935\n",
            "[149]\tvalidation_0-logloss:0.57488\tvalidation_1-logloss:0.64935\n",
            "[150]\tvalidation_0-logloss:0.57482\tvalidation_1-logloss:0.64923\n",
            "[151]\tvalidation_0-logloss:0.57477\tvalidation_1-logloss:0.64927\n",
            "[152]\tvalidation_0-logloss:0.57467\tvalidation_1-logloss:0.64945\n",
            "[153]\tvalidation_0-logloss:0.57458\tvalidation_1-logloss:0.64967\n",
            "[154]\tvalidation_0-logloss:0.57458\tvalidation_1-logloss:0.64968\n",
            "[155]\tvalidation_0-logloss:0.57455\tvalidation_1-logloss:0.64976\n",
            "[156]\tvalidation_0-logloss:0.57451\tvalidation_1-logloss:0.64974\n",
            "[157]\tvalidation_0-logloss:0.57447\tvalidation_1-logloss:0.64981\n",
            "[158]\tvalidation_0-logloss:0.57442\tvalidation_1-logloss:0.64969\n",
            "[159]\tvalidation_0-logloss:0.57438\tvalidation_1-logloss:0.64980\n",
            "[160]\tvalidation_0-logloss:0.57433\tvalidation_1-logloss:0.64996\n",
            "[161]\tvalidation_0-logloss:0.57429\tvalidation_1-logloss:0.65006\n",
            "[162]\tvalidation_0-logloss:0.57429\tvalidation_1-logloss:0.65006\n",
            "[163]\tvalidation_0-logloss:0.57424\tvalidation_1-logloss:0.65028\n",
            "[164]\tvalidation_0-logloss:0.57424\tvalidation_1-logloss:0.65029\n",
            "[165]\tvalidation_0-logloss:0.57424\tvalidation_1-logloss:0.65029\n",
            "[166]\tvalidation_0-logloss:0.57421\tvalidation_1-logloss:0.65039\n",
            "[167]\tvalidation_0-logloss:0.57421\tvalidation_1-logloss:0.65039\n",
            "[168]\tvalidation_0-logloss:0.57421\tvalidation_1-logloss:0.65040\n",
            "[169]\tvalidation_0-logloss:0.57416\tvalidation_1-logloss:0.65028\n",
            "[170]\tvalidation_0-logloss:0.57416\tvalidation_1-logloss:0.65028\n",
            "[171]\tvalidation_0-logloss:0.57416\tvalidation_1-logloss:0.65028\n",
            "[172]\tvalidation_0-logloss:0.57416\tvalidation_1-logloss:0.65028\n",
            "[173]\tvalidation_0-logloss:0.57416\tvalidation_1-logloss:0.65028\n",
            "[174]\tvalidation_0-logloss:0.57412\tvalidation_1-logloss:0.65015\n",
            "[175]\tvalidation_0-logloss:0.57407\tvalidation_1-logloss:0.65037\n",
            "[176]\tvalidation_0-logloss:0.57403\tvalidation_1-logloss:0.65037\n",
            "[177]\tvalidation_0-logloss:0.57399\tvalidation_1-logloss:0.65028\n",
            "[178]\tvalidation_0-logloss:0.57393\tvalidation_1-logloss:0.65053\n",
            "[179]\tvalidation_0-logloss:0.57389\tvalidation_1-logloss:0.65060\n",
            "[180]\tvalidation_0-logloss:0.57385\tvalidation_1-logloss:0.65050\n",
            "[181]\tvalidation_0-logloss:0.57381\tvalidation_1-logloss:0.65054\n",
            "[182]\tvalidation_0-logloss:0.57381\tvalidation_1-logloss:0.65054\n",
            "[183]\tvalidation_0-logloss:0.57377\tvalidation_1-logloss:0.65075\n",
            "[184]\tvalidation_0-logloss:0.57374\tvalidation_1-logloss:0.65069\n",
            "[185]\tvalidation_0-logloss:0.57369\tvalidation_1-logloss:0.65090\n",
            "[186]\tvalidation_0-logloss:0.57369\tvalidation_1-logloss:0.65090\n",
            "[187]\tvalidation_0-logloss:0.57369\tvalidation_1-logloss:0.65090\n",
            "[188]\tvalidation_0-logloss:0.57369\tvalidation_1-logloss:0.65090\n",
            "[189]\tvalidation_0-logloss:0.57364\tvalidation_1-logloss:0.65092\n",
            "[190]\tvalidation_0-logloss:0.57364\tvalidation_1-logloss:0.65093\n",
            "[191]\tvalidation_0-logloss:0.57364\tvalidation_1-logloss:0.65093\n",
            "[192]\tvalidation_0-logloss:0.57361\tvalidation_1-logloss:0.65095\n",
            "[193]\tvalidation_0-logloss:0.57351\tvalidation_1-logloss:0.65140\n",
            "[194]\tvalidation_0-logloss:0.57349\tvalidation_1-logloss:0.65136\n",
            "[195]\tvalidation_0-logloss:0.57346\tvalidation_1-logloss:0.65137\n",
            "[196]\tvalidation_0-logloss:0.57346\tvalidation_1-logloss:0.65137\n",
            "[197]\tvalidation_0-logloss:0.57341\tvalidation_1-logloss:0.65158\n",
            "[198]\tvalidation_0-logloss:0.57336\tvalidation_1-logloss:0.65167\n",
            "[199]\tvalidation_0-logloss:0.57333\tvalidation_1-logloss:0.65175\n",
            "[200]\tvalidation_0-logloss:0.57329\tvalidation_1-logloss:0.65165\n",
            "[201]\tvalidation_0-logloss:0.57319\tvalidation_1-logloss:0.65212\n",
            "[202]\tvalidation_0-logloss:0.57315\tvalidation_1-logloss:0.65220\n",
            "[203]\tvalidation_0-logloss:0.57312\tvalidation_1-logloss:0.65239\n",
            "[204]\tvalidation_0-logloss:0.57309\tvalidation_1-logloss:0.65237\n",
            "[205]\tvalidation_0-logloss:0.57304\tvalidation_1-logloss:0.65247\n",
            "[206]\tvalidation_0-logloss:0.57304\tvalidation_1-logloss:0.65247\n",
            "[207]\tvalidation_0-logloss:0.57301\tvalidation_1-logloss:0.65251\n",
            "[208]\tvalidation_0-logloss:0.57301\tvalidation_1-logloss:0.65252\n",
            "[209]\tvalidation_0-logloss:0.57296\tvalidation_1-logloss:0.65254\n",
            "[210]\tvalidation_0-logloss:0.57292\tvalidation_1-logloss:0.65259\n",
            "[211]\tvalidation_0-logloss:0.57292\tvalidation_1-logloss:0.65259\n",
            "[212]\tvalidation_0-logloss:0.57290\tvalidation_1-logloss:0.65270\n",
            "[213]\tvalidation_0-logloss:0.57286\tvalidation_1-logloss:0.65288\n",
            "[214]\tvalidation_0-logloss:0.57282\tvalidation_1-logloss:0.65298\n",
            "[215]\tvalidation_0-logloss:0.57278\tvalidation_1-logloss:0.65310\n",
            "[216]\tvalidation_0-logloss:0.57278\tvalidation_1-logloss:0.65311\n",
            "[217]\tvalidation_0-logloss:0.57275\tvalidation_1-logloss:0.65310\n",
            "[218]\tvalidation_0-logloss:0.57273\tvalidation_1-logloss:0.65316\n",
            "[219]\tvalidation_0-logloss:0.57273\tvalidation_1-logloss:0.65316\n",
            "[220]\tvalidation_0-logloss:0.57273\tvalidation_1-logloss:0.65316\n",
            "[221]\tvalidation_0-logloss:0.57251\tvalidation_1-logloss:0.65325\n",
            "[222]\tvalidation_0-logloss:0.57251\tvalidation_1-logloss:0.65325\n",
            "[223]\tvalidation_0-logloss:0.57251\tvalidation_1-logloss:0.65324\n",
            "[224]\tvalidation_0-logloss:0.57249\tvalidation_1-logloss:0.65338\n",
            "[225]\tvalidation_0-logloss:0.57245\tvalidation_1-logloss:0.65331\n",
            "[226]\tvalidation_0-logloss:0.57241\tvalidation_1-logloss:0.65340\n",
            "[227]\tvalidation_0-logloss:0.57236\tvalidation_1-logloss:0.65351\n",
            "[228]\tvalidation_0-logloss:0.57228\tvalidation_1-logloss:0.65332\n",
            "[229]\tvalidation_0-logloss:0.57225\tvalidation_1-logloss:0.65350\n",
            "[230]\tvalidation_0-logloss:0.57221\tvalidation_1-logloss:0.65355\n",
            "[231]\tvalidation_0-logloss:0.57219\tvalidation_1-logloss:0.65359\n",
            "[232]\tvalidation_0-logloss:0.57214\tvalidation_1-logloss:0.65385\n",
            "[233]\tvalidation_0-logloss:0.57210\tvalidation_1-logloss:0.65379\n",
            "[234]\tvalidation_0-logloss:0.57208\tvalidation_1-logloss:0.65394\n",
            "[235]\tvalidation_0-logloss:0.57205\tvalidation_1-logloss:0.65405\n",
            "[236]\tvalidation_0-logloss:0.57205\tvalidation_1-logloss:0.65405\n",
            "[237]\tvalidation_0-logloss:0.57205\tvalidation_1-logloss:0.65406\n",
            "[238]\tvalidation_0-logloss:0.57202\tvalidation_1-logloss:0.65400\n",
            "[239]\tvalidation_0-logloss:0.57199\tvalidation_1-logloss:0.65411\n",
            "[240]\tvalidation_0-logloss:0.57197\tvalidation_1-logloss:0.65408\n",
            "[241]\tvalidation_0-logloss:0.57194\tvalidation_1-logloss:0.65408\n",
            "[242]\tvalidation_0-logloss:0.57194\tvalidation_1-logloss:0.65408\n",
            "[243]\tvalidation_0-logloss:0.57191\tvalidation_1-logloss:0.65429\n",
            "[244]\tvalidation_0-logloss:0.57189\tvalidation_1-logloss:0.65433\n",
            "[245]\tvalidation_0-logloss:0.57189\tvalidation_1-logloss:0.65433\n",
            "[246]\tvalidation_0-logloss:0.57189\tvalidation_1-logloss:0.65433\n",
            "[247]\tvalidation_0-logloss:0.57183\tvalidation_1-logloss:0.65429\n",
            "[248]\tvalidation_0-logloss:0.57178\tvalidation_1-logloss:0.65409\n",
            "[249]\tvalidation_0-logloss:0.57173\tvalidation_1-logloss:0.65430\n",
            "[250]\tvalidation_0-logloss:0.57173\tvalidation_1-logloss:0.65430\n",
            "[251]\tvalidation_0-logloss:0.57173\tvalidation_1-logloss:0.65430\n",
            "[252]\tvalidation_0-logloss:0.57171\tvalidation_1-logloss:0.65436\n",
            "[253]\tvalidation_0-logloss:0.57168\tvalidation_1-logloss:0.65447\n",
            "[254]\tvalidation_0-logloss:0.57164\tvalidation_1-logloss:0.65467\n",
            "[255]\tvalidation_0-logloss:0.57164\tvalidation_1-logloss:0.65467\n",
            "[256]\tvalidation_0-logloss:0.57157\tvalidation_1-logloss:0.65507\n",
            "[257]\tvalidation_0-logloss:0.57148\tvalidation_1-logloss:0.65507\n",
            "[258]\tvalidation_0-logloss:0.57143\tvalidation_1-logloss:0.65498\n",
            "[259]\tvalidation_0-logloss:0.57143\tvalidation_1-logloss:0.65498\n",
            "[260]\tvalidation_0-logloss:0.57126\tvalidation_1-logloss:0.65558\n",
            "[261]\tvalidation_0-logloss:0.57117\tvalidation_1-logloss:0.65577\n",
            "[262]\tvalidation_0-logloss:0.57112\tvalidation_1-logloss:0.65580\n",
            "[263]\tvalidation_0-logloss:0.57099\tvalidation_1-logloss:0.65615\n",
            "[264]\tvalidation_0-logloss:0.57092\tvalidation_1-logloss:0.65600\n",
            "[265]\tvalidation_0-logloss:0.57092\tvalidation_1-logloss:0.65600\n",
            "[266]\tvalidation_0-logloss:0.57090\tvalidation_1-logloss:0.65608\n",
            "[267]\tvalidation_0-logloss:0.57087\tvalidation_1-logloss:0.65620\n",
            "[268]\tvalidation_0-logloss:0.57083\tvalidation_1-logloss:0.65624\n",
            "[269]\tvalidation_0-logloss:0.57083\tvalidation_1-logloss:0.65624\n",
            "[270]\tvalidation_0-logloss:0.57078\tvalidation_1-logloss:0.65626\n",
            "[271]\tvalidation_0-logloss:0.57076\tvalidation_1-logloss:0.65644\n",
            "[272]\tvalidation_0-logloss:0.57066\tvalidation_1-logloss:0.65662\n",
            "[273]\tvalidation_0-logloss:0.57065\tvalidation_1-logloss:0.65671\n",
            "[274]\tvalidation_0-logloss:0.57065\tvalidation_1-logloss:0.65671\n",
            "[275]\tvalidation_0-logloss:0.57059\tvalidation_1-logloss:0.65702\n",
            "[276]\tvalidation_0-logloss:0.57057\tvalidation_1-logloss:0.65702\n",
            "[277]\tvalidation_0-logloss:0.57054\tvalidation_1-logloss:0.65717\n",
            "[278]\tvalidation_0-logloss:0.57054\tvalidation_1-logloss:0.65717\n",
            "[279]\tvalidation_0-logloss:0.57050\tvalidation_1-logloss:0.65720\n",
            "[280]\tvalidation_0-logloss:0.57050\tvalidation_1-logloss:0.65720\n",
            "[281]\tvalidation_0-logloss:0.57047\tvalidation_1-logloss:0.65715\n",
            "[282]\tvalidation_0-logloss:0.57044\tvalidation_1-logloss:0.65734\n",
            "[283]\tvalidation_0-logloss:0.57042\tvalidation_1-logloss:0.65727\n",
            "[284]\tvalidation_0-logloss:0.57040\tvalidation_1-logloss:0.65728\n",
            "[285]\tvalidation_0-logloss:0.57036\tvalidation_1-logloss:0.65714\n",
            "[286]\tvalidation_0-logloss:0.57028\tvalidation_1-logloss:0.65780\n",
            "[287]\tvalidation_0-logloss:0.57026\tvalidation_1-logloss:0.65794\n",
            "[288]\tvalidation_0-logloss:0.57022\tvalidation_1-logloss:0.65799\n",
            "[289]\tvalidation_0-logloss:0.57020\tvalidation_1-logloss:0.65808\n",
            "[290]\tvalidation_0-logloss:0.57018\tvalidation_1-logloss:0.65803\n",
            "[291]\tvalidation_0-logloss:0.57018\tvalidation_1-logloss:0.65803\n",
            "[292]\tvalidation_0-logloss:0.57018\tvalidation_1-logloss:0.65803\n",
            "[293]\tvalidation_0-logloss:0.57014\tvalidation_1-logloss:0.65825\n",
            "[294]\tvalidation_0-logloss:0.57012\tvalidation_1-logloss:0.65825\n",
            "[295]\tvalidation_0-logloss:0.57003\tvalidation_1-logloss:0.65818\n",
            "[296]\tvalidation_0-logloss:0.56999\tvalidation_1-logloss:0.65829\n",
            "[297]\tvalidation_0-logloss:0.56997\tvalidation_1-logloss:0.65840\n",
            "[298]\tvalidation_0-logloss:0.56994\tvalidation_1-logloss:0.65838\n",
            "[299]\tvalidation_0-logloss:0.56992\tvalidation_1-logloss:0.65854\n",
            "[300]\tvalidation_0-logloss:0.56991\tvalidation_1-logloss:0.65856\n",
            "[301]\tvalidation_0-logloss:0.56987\tvalidation_1-logloss:0.65845\n",
            "[302]\tvalidation_0-logloss:0.56987\tvalidation_1-logloss:0.65846\n",
            "[303]\tvalidation_0-logloss:0.56985\tvalidation_1-logloss:0.65865\n",
            "[304]\tvalidation_0-logloss:0.56982\tvalidation_1-logloss:0.65865\n",
            "[305]\tvalidation_0-logloss:0.56982\tvalidation_1-logloss:0.65865\n",
            "[306]\tvalidation_0-logloss:0.56978\tvalidation_1-logloss:0.65873\n",
            "[307]\tvalidation_0-logloss:0.56974\tvalidation_1-logloss:0.65869\n",
            "[308]\tvalidation_0-logloss:0.56971\tvalidation_1-logloss:0.65894\n",
            "[309]\tvalidation_0-logloss:0.56965\tvalidation_1-logloss:0.65887\n",
            "[310]\tvalidation_0-logloss:0.56963\tvalidation_1-logloss:0.65884\n",
            "[311]\tvalidation_0-logloss:0.56963\tvalidation_1-logloss:0.65884\n",
            "[312]\tvalidation_0-logloss:0.56963\tvalidation_1-logloss:0.65884\n",
            "[313]\tvalidation_0-logloss:0.56960\tvalidation_1-logloss:0.65890\n",
            "[314]\tvalidation_0-logloss:0.56958\tvalidation_1-logloss:0.65905\n",
            "[315]\tvalidation_0-logloss:0.56953\tvalidation_1-logloss:0.65910\n",
            "[316]\tvalidation_0-logloss:0.56953\tvalidation_1-logloss:0.65910\n",
            "[317]\tvalidation_0-logloss:0.56951\tvalidation_1-logloss:0.65923\n",
            "[318]\tvalidation_0-logloss:0.56951\tvalidation_1-logloss:0.65923\n",
            "[319]\tvalidation_0-logloss:0.56947\tvalidation_1-logloss:0.65931\n",
            "[320]\tvalidation_0-logloss:0.56942\tvalidation_1-logloss:0.65934\n",
            "[321]\tvalidation_0-logloss:0.56942\tvalidation_1-logloss:0.65934\n",
            "[322]\tvalidation_0-logloss:0.56934\tvalidation_1-logloss:0.65936\n",
            "[323]\tvalidation_0-logloss:0.56934\tvalidation_1-logloss:0.65937\n",
            "[324]\tvalidation_0-logloss:0.56932\tvalidation_1-logloss:0.65945\n",
            "[325]\tvalidation_0-logloss:0.56921\tvalidation_1-logloss:0.65907\n",
            "[326]\tvalidation_0-logloss:0.56917\tvalidation_1-logloss:0.65912\n",
            "[327]\tvalidation_0-logloss:0.56915\tvalidation_1-logloss:0.65917\n",
            "[328]\tvalidation_0-logloss:0.56910\tvalidation_1-logloss:0.65931\n",
            "[329]\tvalidation_0-logloss:0.56908\tvalidation_1-logloss:0.65929\n",
            "[330]\tvalidation_0-logloss:0.56908\tvalidation_1-logloss:0.65929\n",
            "[331]\tvalidation_0-logloss:0.56905\tvalidation_1-logloss:0.65930\n",
            "[332]\tvalidation_0-logloss:0.56902\tvalidation_1-logloss:0.65931\n",
            "[333]\tvalidation_0-logloss:0.56896\tvalidation_1-logloss:0.65936\n",
            "[334]\tvalidation_0-logloss:0.56894\tvalidation_1-logloss:0.65929\n",
            "[335]\tvalidation_0-logloss:0.56888\tvalidation_1-logloss:0.65917\n",
            "[336]\tvalidation_0-logloss:0.56886\tvalidation_1-logloss:0.65920\n",
            "[337]\tvalidation_0-logloss:0.56883\tvalidation_1-logloss:0.65923\n",
            "[338]\tvalidation_0-logloss:0.56881\tvalidation_1-logloss:0.65923\n",
            "[339]\tvalidation_0-logloss:0.56880\tvalidation_1-logloss:0.65931\n",
            "[340]\tvalidation_0-logloss:0.56878\tvalidation_1-logloss:0.65931\n",
            "[341]\tvalidation_0-logloss:0.56878\tvalidation_1-logloss:0.65931\n",
            "[342]\tvalidation_0-logloss:0.56875\tvalidation_1-logloss:0.65937\n",
            "[343]\tvalidation_0-logloss:0.56870\tvalidation_1-logloss:0.65957\n",
            "[344]\tvalidation_0-logloss:0.56865\tvalidation_1-logloss:0.65960\n",
            "[345]\tvalidation_0-logloss:0.56865\tvalidation_1-logloss:0.65961\n",
            "[346]\tvalidation_0-logloss:0.56862\tvalidation_1-logloss:0.65979\n",
            "[347]\tvalidation_0-logloss:0.56858\tvalidation_1-logloss:0.65980\n",
            "[348]\tvalidation_0-logloss:0.56858\tvalidation_1-logloss:0.65981\n",
            "[349]\tvalidation_0-logloss:0.56858\tvalidation_1-logloss:0.65981\n",
            "[350]\tvalidation_0-logloss:0.56856\tvalidation_1-logloss:0.65997\n",
            "[351]\tvalidation_0-logloss:0.56856\tvalidation_1-logloss:0.65997\n",
            "[352]\tvalidation_0-logloss:0.56856\tvalidation_1-logloss:0.65997\n",
            "[353]\tvalidation_0-logloss:0.56856\tvalidation_1-logloss:0.65997\n",
            "[354]\tvalidation_0-logloss:0.56855\tvalidation_1-logloss:0.65992\n",
            "[355]\tvalidation_0-logloss:0.56853\tvalidation_1-logloss:0.66008\n",
            "[356]\tvalidation_0-logloss:0.56851\tvalidation_1-logloss:0.66008\n",
            "[357]\tvalidation_0-logloss:0.56851\tvalidation_1-logloss:0.66008\n",
            "[358]\tvalidation_0-logloss:0.56850\tvalidation_1-logloss:0.66000\n",
            "[359]\tvalidation_0-logloss:0.56850\tvalidation_1-logloss:0.66000\n",
            "[360]\tvalidation_0-logloss:0.56848\tvalidation_1-logloss:0.66011\n",
            "[361]\tvalidation_0-logloss:0.56847\tvalidation_1-logloss:0.66013\n",
            "[362]\tvalidation_0-logloss:0.56845\tvalidation_1-logloss:0.66013\n",
            "[363]\tvalidation_0-logloss:0.56844\tvalidation_1-logloss:0.66008\n",
            "[364]\tvalidation_0-logloss:0.56836\tvalidation_1-logloss:0.66071\n",
            "[365]\tvalidation_0-logloss:0.56836\tvalidation_1-logloss:0.66072\n",
            "[366]\tvalidation_0-logloss:0.56834\tvalidation_1-logloss:0.66069\n",
            "[367]\tvalidation_0-logloss:0.56828\tvalidation_1-logloss:0.66091\n",
            "[368]\tvalidation_0-logloss:0.56828\tvalidation_1-logloss:0.66092\n",
            "[369]\tvalidation_0-logloss:0.56826\tvalidation_1-logloss:0.66090\n",
            "[370]\tvalidation_0-logloss:0.56826\tvalidation_1-logloss:0.66090\n",
            "[371]\tvalidation_0-logloss:0.56822\tvalidation_1-logloss:0.66098\n",
            "[372]\tvalidation_0-logloss:0.56822\tvalidation_1-logloss:0.66098\n",
            "[373]\tvalidation_0-logloss:0.56819\tvalidation_1-logloss:0.66095\n",
            "[374]\tvalidation_0-logloss:0.56817\tvalidation_1-logloss:0.66113\n",
            "[375]\tvalidation_0-logloss:0.56815\tvalidation_1-logloss:0.66114\n",
            "[376]\tvalidation_0-logloss:0.56813\tvalidation_1-logloss:0.66128\n",
            "[377]\tvalidation_0-logloss:0.56813\tvalidation_1-logloss:0.66128\n",
            "[378]\tvalidation_0-logloss:0.56813\tvalidation_1-logloss:0.66128\n",
            "[379]\tvalidation_0-logloss:0.56812\tvalidation_1-logloss:0.66132\n",
            "[380]\tvalidation_0-logloss:0.56810\tvalidation_1-logloss:0.66129\n",
            "[381]\tvalidation_0-logloss:0.56810\tvalidation_1-logloss:0.66129\n",
            "[382]\tvalidation_0-logloss:0.56809\tvalidation_1-logloss:0.66140\n",
            "[383]\tvalidation_0-logloss:0.56804\tvalidation_1-logloss:0.66162\n",
            "[384]\tvalidation_0-logloss:0.56799\tvalidation_1-logloss:0.66171\n",
            "[385]\tvalidation_0-logloss:0.56797\tvalidation_1-logloss:0.66171\n",
            "[386]\tvalidation_0-logloss:0.56791\tvalidation_1-logloss:0.66163\n",
            "[387]\tvalidation_0-logloss:0.56790\tvalidation_1-logloss:0.66174\n",
            "[388]\tvalidation_0-logloss:0.56789\tvalidation_1-logloss:0.66166\n",
            "[389]\tvalidation_0-logloss:0.56787\tvalidation_1-logloss:0.66167\n",
            "[390]\tvalidation_0-logloss:0.56784\tvalidation_1-logloss:0.66165\n",
            "[391]\tvalidation_0-logloss:0.56784\tvalidation_1-logloss:0.66165\n",
            "[392]\tvalidation_0-logloss:0.56781\tvalidation_1-logloss:0.66178\n",
            "[393]\tvalidation_0-logloss:0.56781\tvalidation_1-logloss:0.66178\n",
            "[394]\tvalidation_0-logloss:0.56780\tvalidation_1-logloss:0.66189\n",
            "[395]\tvalidation_0-logloss:0.56779\tvalidation_1-logloss:0.66203\n",
            "[396]\tvalidation_0-logloss:0.56778\tvalidation_1-logloss:0.66199\n",
            "[397]\tvalidation_0-logloss:0.56774\tvalidation_1-logloss:0.66200\n",
            "[398]\tvalidation_0-logloss:0.56771\tvalidation_1-logloss:0.66225\n",
            "[399]\tvalidation_0-logloss:0.56768\tvalidation_1-logloss:0.66218\n",
            "[400]\tvalidation_0-logloss:0.56766\tvalidation_1-logloss:0.66221\n",
            "[401]\tvalidation_0-logloss:0.56764\tvalidation_1-logloss:0.66213\n",
            "[402]\tvalidation_0-logloss:0.56761\tvalidation_1-logloss:0.66225\n",
            "[403]\tvalidation_0-logloss:0.56760\tvalidation_1-logloss:0.66237\n",
            "[404]\tvalidation_0-logloss:0.56753\tvalidation_1-logloss:0.66251\n",
            "[405]\tvalidation_0-logloss:0.56753\tvalidation_1-logloss:0.66251\n",
            "[406]\tvalidation_0-logloss:0.56751\tvalidation_1-logloss:0.66264\n",
            "[407]\tvalidation_0-logloss:0.56746\tvalidation_1-logloss:0.66285\n",
            "[408]\tvalidation_0-logloss:0.56743\tvalidation_1-logloss:0.66286\n",
            "[409]\tvalidation_0-logloss:0.56738\tvalidation_1-logloss:0.66316\n",
            "[410]\tvalidation_0-logloss:0.56737\tvalidation_1-logloss:0.66325\n",
            "[411]\tvalidation_0-logloss:0.56735\tvalidation_1-logloss:0.66339\n",
            "[412]\tvalidation_0-logloss:0.56734\tvalidation_1-logloss:0.66331\n",
            "[413]\tvalidation_0-logloss:0.56733\tvalidation_1-logloss:0.66345\n",
            "[414]\tvalidation_0-logloss:0.56733\tvalidation_1-logloss:0.66346\n",
            "[415]\tvalidation_0-logloss:0.56732\tvalidation_1-logloss:0.66345\n",
            "[416]\tvalidation_0-logloss:0.56730\tvalidation_1-logloss:0.66356\n",
            "[417]\tvalidation_0-logloss:0.56730\tvalidation_1-logloss:0.66356\n",
            "[418]\tvalidation_0-logloss:0.56727\tvalidation_1-logloss:0.66353\n",
            "[419]\tvalidation_0-logloss:0.56727\tvalidation_1-logloss:0.66353\n",
            "[420]\tvalidation_0-logloss:0.56726\tvalidation_1-logloss:0.66363\n",
            "[421]\tvalidation_0-logloss:0.56724\tvalidation_1-logloss:0.66386\n",
            "[422]\tvalidation_0-logloss:0.56720\tvalidation_1-logloss:0.66399\n",
            "[423]\tvalidation_0-logloss:0.56720\tvalidation_1-logloss:0.66399\n",
            "[424]\tvalidation_0-logloss:0.56718\tvalidation_1-logloss:0.66404\n",
            "[425]\tvalidation_0-logloss:0.56713\tvalidation_1-logloss:0.66426\n",
            "[426]\tvalidation_0-logloss:0.56707\tvalidation_1-logloss:0.66433\n",
            "[427]\tvalidation_0-logloss:0.56702\tvalidation_1-logloss:0.66421\n",
            "[428]\tvalidation_0-logloss:0.56697\tvalidation_1-logloss:0.66415\n",
            "[429]\tvalidation_0-logloss:0.56696\tvalidation_1-logloss:0.66408\n",
            "[430]\tvalidation_0-logloss:0.56691\tvalidation_1-logloss:0.66417\n",
            "[431]\tvalidation_0-logloss:0.56690\tvalidation_1-logloss:0.66419\n",
            "[432]\tvalidation_0-logloss:0.56688\tvalidation_1-logloss:0.66422\n",
            "[433]\tvalidation_0-logloss:0.56687\tvalidation_1-logloss:0.66421\n",
            "[434]\tvalidation_0-logloss:0.56685\tvalidation_1-logloss:0.66423\n",
            "[435]\tvalidation_0-logloss:0.56682\tvalidation_1-logloss:0.66414\n",
            "[436]\tvalidation_0-logloss:0.56681\tvalidation_1-logloss:0.66412\n",
            "[437]\tvalidation_0-logloss:0.56679\tvalidation_1-logloss:0.66427\n",
            "[438]\tvalidation_0-logloss:0.56670\tvalidation_1-logloss:0.66426\n",
            "[439]\tvalidation_0-logloss:0.56670\tvalidation_1-logloss:0.66433\n",
            "[440]\tvalidation_0-logloss:0.56670\tvalidation_1-logloss:0.66433\n",
            "[441]\tvalidation_0-logloss:0.56668\tvalidation_1-logloss:0.66434\n",
            "[442]\tvalidation_0-logloss:0.56664\tvalidation_1-logloss:0.66438\n",
            "[443]\tvalidation_0-logloss:0.56664\tvalidation_1-logloss:0.66438\n",
            "[444]\tvalidation_0-logloss:0.56664\tvalidation_1-logloss:0.66438\n",
            "[445]\tvalidation_0-logloss:0.56664\tvalidation_1-logloss:0.66438\n",
            "[446]\tvalidation_0-logloss:0.56660\tvalidation_1-logloss:0.66475\n",
            "[447]\tvalidation_0-logloss:0.56656\tvalidation_1-logloss:0.66487\n",
            "[448]\tvalidation_0-logloss:0.56656\tvalidation_1-logloss:0.66487\n",
            "[449]\tvalidation_0-logloss:0.56656\tvalidation_1-logloss:0.66487\n",
            "[450]\tvalidation_0-logloss:0.56656\tvalidation_1-logloss:0.66487\n",
            "[451]\tvalidation_0-logloss:0.56655\tvalidation_1-logloss:0.66482\n",
            "[452]\tvalidation_0-logloss:0.56655\tvalidation_1-logloss:0.66482\n",
            "[453]\tvalidation_0-logloss:0.56654\tvalidation_1-logloss:0.66483\n",
            "[454]\tvalidation_0-logloss:0.56654\tvalidation_1-logloss:0.66483\n",
            "[455]\tvalidation_0-logloss:0.56652\tvalidation_1-logloss:0.66482\n",
            "[456]\tvalidation_0-logloss:0.56646\tvalidation_1-logloss:0.66509\n",
            "[457]\tvalidation_0-logloss:0.56646\tvalidation_1-logloss:0.66509\n",
            "[458]\tvalidation_0-logloss:0.56644\tvalidation_1-logloss:0.66508\n",
            "[459]\tvalidation_0-logloss:0.56643\tvalidation_1-logloss:0.66520\n",
            "[460]\tvalidation_0-logloss:0.56643\tvalidation_1-logloss:0.66520\n",
            "[461]\tvalidation_0-logloss:0.56643\tvalidation_1-logloss:0.66520\n",
            "[462]\tvalidation_0-logloss:0.56641\tvalidation_1-logloss:0.66527\n",
            "[463]\tvalidation_0-logloss:0.56641\tvalidation_1-logloss:0.66527\n",
            "[464]\tvalidation_0-logloss:0.56637\tvalidation_1-logloss:0.66526\n",
            "[465]\tvalidation_0-logloss:0.56636\tvalidation_1-logloss:0.66539\n",
            "[466]\tvalidation_0-logloss:0.56635\tvalidation_1-logloss:0.66529\n",
            "[467]\tvalidation_0-logloss:0.56633\tvalidation_1-logloss:0.66538\n",
            "[468]\tvalidation_0-logloss:0.56626\tvalidation_1-logloss:0.66552\n",
            "[469]\tvalidation_0-logloss:0.56623\tvalidation_1-logloss:0.66544\n",
            "[470]\tvalidation_0-logloss:0.56621\tvalidation_1-logloss:0.66556\n",
            "[471]\tvalidation_0-logloss:0.56620\tvalidation_1-logloss:0.66563\n",
            "[472]\tvalidation_0-logloss:0.56617\tvalidation_1-logloss:0.66585\n",
            "[473]\tvalidation_0-logloss:0.56617\tvalidation_1-logloss:0.66586\n",
            "[474]\tvalidation_0-logloss:0.56616\tvalidation_1-logloss:0.66582\n",
            "[475]\tvalidation_0-logloss:0.56612\tvalidation_1-logloss:0.66574\n",
            "[476]\tvalidation_0-logloss:0.56611\tvalidation_1-logloss:0.66590\n",
            "[477]\tvalidation_0-logloss:0.56609\tvalidation_1-logloss:0.66595\n",
            "[478]\tvalidation_0-logloss:0.56608\tvalidation_1-logloss:0.66595\n",
            "[479]\tvalidation_0-logloss:0.56607\tvalidation_1-logloss:0.66590\n",
            "[480]\tvalidation_0-logloss:0.56606\tvalidation_1-logloss:0.66603\n",
            "[481]\tvalidation_0-logloss:0.56604\tvalidation_1-logloss:0.66598\n",
            "[482]\tvalidation_0-logloss:0.56604\tvalidation_1-logloss:0.66598\n",
            "[483]\tvalidation_0-logloss:0.56603\tvalidation_1-logloss:0.66610\n",
            "[484]\tvalidation_0-logloss:0.56601\tvalidation_1-logloss:0.66608\n",
            "[485]\tvalidation_0-logloss:0.56600\tvalidation_1-logloss:0.66614\n",
            "[486]\tvalidation_0-logloss:0.56596\tvalidation_1-logloss:0.66654\n",
            "[487]\tvalidation_0-logloss:0.56594\tvalidation_1-logloss:0.66669\n",
            "[488]\tvalidation_0-logloss:0.56592\tvalidation_1-logloss:0.66672\n",
            "[489]\tvalidation_0-logloss:0.56590\tvalidation_1-logloss:0.66677\n",
            "[490]\tvalidation_0-logloss:0.56590\tvalidation_1-logloss:0.66670\n",
            "[491]\tvalidation_0-logloss:0.56588\tvalidation_1-logloss:0.66680\n",
            "[492]\tvalidation_0-logloss:0.56588\tvalidation_1-logloss:0.66680\n",
            "[493]\tvalidation_0-logloss:0.56585\tvalidation_1-logloss:0.66675\n",
            "[494]\tvalidation_0-logloss:0.56585\tvalidation_1-logloss:0.66674\n",
            "[495]\tvalidation_0-logloss:0.56581\tvalidation_1-logloss:0.66687\n",
            "[496]\tvalidation_0-logloss:0.56579\tvalidation_1-logloss:0.66691\n",
            "[497]\tvalidation_0-logloss:0.56574\tvalidation_1-logloss:0.66727\n",
            "[498]\tvalidation_0-logloss:0.56572\tvalidation_1-logloss:0.66726\n",
            "[499]\tvalidation_0-logloss:0.56568\tvalidation_1-logloss:0.66728\n",
            "[500]\tvalidation_0-logloss:0.56566\tvalidation_1-logloss:0.66737\n",
            "[501]\tvalidation_0-logloss:0.56566\tvalidation_1-logloss:0.66738\n",
            "[502]\tvalidation_0-logloss:0.56564\tvalidation_1-logloss:0.66743\n",
            "[503]\tvalidation_0-logloss:0.56564\tvalidation_1-logloss:0.66743\n",
            "[504]\tvalidation_0-logloss:0.56562\tvalidation_1-logloss:0.66758\n",
            "[505]\tvalidation_0-logloss:0.56561\tvalidation_1-logloss:0.66757\n",
            "[506]\tvalidation_0-logloss:0.56559\tvalidation_1-logloss:0.66763\n",
            "[507]\tvalidation_0-logloss:0.56559\tvalidation_1-logloss:0.66763\n",
            "[508]\tvalidation_0-logloss:0.56558\tvalidation_1-logloss:0.66768\n",
            "[509]\tvalidation_0-logloss:0.56557\tvalidation_1-logloss:0.66778\n",
            "[510]\tvalidation_0-logloss:0.56554\tvalidation_1-logloss:0.66772\n",
            "[511]\tvalidation_0-logloss:0.56552\tvalidation_1-logloss:0.66771\n",
            "[512]\tvalidation_0-logloss:0.56552\tvalidation_1-logloss:0.66771\n",
            "[513]\tvalidation_0-logloss:0.56552\tvalidation_1-logloss:0.66772\n",
            "[514]\tvalidation_0-logloss:0.56552\tvalidation_1-logloss:0.66772\n",
            "[515]\tvalidation_0-logloss:0.56549\tvalidation_1-logloss:0.66786\n",
            "[516]\tvalidation_0-logloss:0.56549\tvalidation_1-logloss:0.66786\n",
            "[517]\tvalidation_0-logloss:0.56546\tvalidation_1-logloss:0.66793\n",
            "[518]\tvalidation_0-logloss:0.56543\tvalidation_1-logloss:0.66793\n",
            "[519]\tvalidation_0-logloss:0.56540\tvalidation_1-logloss:0.66792\n",
            "[520]\tvalidation_0-logloss:0.56537\tvalidation_1-logloss:0.66826\n",
            "[521]\tvalidation_0-logloss:0.56537\tvalidation_1-logloss:0.66826\n",
            "[522]\tvalidation_0-logloss:0.56536\tvalidation_1-logloss:0.66824\n",
            "[523]\tvalidation_0-logloss:0.56532\tvalidation_1-logloss:0.66834\n",
            "[524]\tvalidation_0-logloss:0.56529\tvalidation_1-logloss:0.66834\n",
            "[525]\tvalidation_0-logloss:0.56527\tvalidation_1-logloss:0.66841\n",
            "[526]\tvalidation_0-logloss:0.56526\tvalidation_1-logloss:0.66851\n",
            "[527]\tvalidation_0-logloss:0.56524\tvalidation_1-logloss:0.66854\n",
            "[528]\tvalidation_0-logloss:0.56520\tvalidation_1-logloss:0.66845\n",
            "[529]\tvalidation_0-logloss:0.56518\tvalidation_1-logloss:0.66842\n",
            "[530]\tvalidation_0-logloss:0.56516\tvalidation_1-logloss:0.66842\n",
            "[531]\tvalidation_0-logloss:0.56516\tvalidation_1-logloss:0.66843\n",
            "[532]\tvalidation_0-logloss:0.56515\tvalidation_1-logloss:0.66843\n",
            "[533]\tvalidation_0-logloss:0.56514\tvalidation_1-logloss:0.66851\n",
            "[534]\tvalidation_0-logloss:0.56513\tvalidation_1-logloss:0.66849\n",
            "[535]\tvalidation_0-logloss:0.56513\tvalidation_1-logloss:0.66861\n",
            "[536]\tvalidation_0-logloss:0.56513\tvalidation_1-logloss:0.66861\n",
            "[537]\tvalidation_0-logloss:0.56512\tvalidation_1-logloss:0.66855\n",
            "[538]\tvalidation_0-logloss:0.56511\tvalidation_1-logloss:0.66864\n",
            "[539]\tvalidation_0-logloss:0.56511\tvalidation_1-logloss:0.66870\n",
            "[540]\tvalidation_0-logloss:0.56509\tvalidation_1-logloss:0.66869\n",
            "[541]\tvalidation_0-logloss:0.56507\tvalidation_1-logloss:0.66881\n",
            "[542]\tvalidation_0-logloss:0.56505\tvalidation_1-logloss:0.66910\n",
            "[543]\tvalidation_0-logloss:0.56504\tvalidation_1-logloss:0.66905\n",
            "[544]\tvalidation_0-logloss:0.56503\tvalidation_1-logloss:0.66904\n",
            "[545]\tvalidation_0-logloss:0.56502\tvalidation_1-logloss:0.66911\n",
            "[546]\tvalidation_0-logloss:0.56500\tvalidation_1-logloss:0.66912\n",
            "[547]\tvalidation_0-logloss:0.56496\tvalidation_1-logloss:0.66903\n",
            "[548]\tvalidation_0-logloss:0.56495\tvalidation_1-logloss:0.66912\n",
            "[549]\tvalidation_0-logloss:0.56492\tvalidation_1-logloss:0.66897\n",
            "[550]\tvalidation_0-logloss:0.56491\tvalidation_1-logloss:0.66895\n",
            "[551]\tvalidation_0-logloss:0.56488\tvalidation_1-logloss:0.66907\n",
            "[552]\tvalidation_0-logloss:0.56485\tvalidation_1-logloss:0.66916\n",
            "[553]\tvalidation_0-logloss:0.56485\tvalidation_1-logloss:0.66916\n",
            "[554]\tvalidation_0-logloss:0.56481\tvalidation_1-logloss:0.66911\n",
            "[555]\tvalidation_0-logloss:0.56479\tvalidation_1-logloss:0.66929\n",
            "[556]\tvalidation_0-logloss:0.56475\tvalidation_1-logloss:0.66925\n",
            "[557]\tvalidation_0-logloss:0.56473\tvalidation_1-logloss:0.66923\n",
            "[558]\tvalidation_0-logloss:0.56471\tvalidation_1-logloss:0.66922\n",
            "[559]\tvalidation_0-logloss:0.56469\tvalidation_1-logloss:0.66931\n",
            "[560]\tvalidation_0-logloss:0.56467\tvalidation_1-logloss:0.66933\n",
            "[561]\tvalidation_0-logloss:0.56466\tvalidation_1-logloss:0.66932\n",
            "[562]\tvalidation_0-logloss:0.56463\tvalidation_1-logloss:0.66943\n",
            "[563]\tvalidation_0-logloss:0.56461\tvalidation_1-logloss:0.66949\n",
            "[564]\tvalidation_0-logloss:0.56461\tvalidation_1-logloss:0.66949\n",
            "[565]\tvalidation_0-logloss:0.56458\tvalidation_1-logloss:0.66955\n",
            "[566]\tvalidation_0-logloss:0.56456\tvalidation_1-logloss:0.66966\n",
            "[567]\tvalidation_0-logloss:0.56455\tvalidation_1-logloss:0.66966\n",
            "[568]\tvalidation_0-logloss:0.56453\tvalidation_1-logloss:0.66973\n",
            "[569]\tvalidation_0-logloss:0.56453\tvalidation_1-logloss:0.66973\n",
            "[570]\tvalidation_0-logloss:0.56453\tvalidation_1-logloss:0.66976\n",
            "[571]\tvalidation_0-logloss:0.56452\tvalidation_1-logloss:0.66976\n",
            "[572]\tvalidation_0-logloss:0.56451\tvalidation_1-logloss:0.66992\n",
            "[573]\tvalidation_0-logloss:0.56449\tvalidation_1-logloss:0.66994\n",
            "[574]\tvalidation_0-logloss:0.56449\tvalidation_1-logloss:0.66994\n",
            "[575]\tvalidation_0-logloss:0.56447\tvalidation_1-logloss:0.67000\n",
            "[576]\tvalidation_0-logloss:0.56447\tvalidation_1-logloss:0.67008\n",
            "[577]\tvalidation_0-logloss:0.56447\tvalidation_1-logloss:0.67009\n",
            "[578]\tvalidation_0-logloss:0.56445\tvalidation_1-logloss:0.67009\n",
            "[579]\tvalidation_0-logloss:0.56445\tvalidation_1-logloss:0.67009\n",
            "[580]\tvalidation_0-logloss:0.56445\tvalidation_1-logloss:0.67009\n",
            "[581]\tvalidation_0-logloss:0.56444\tvalidation_1-logloss:0.67008\n",
            "[582]\tvalidation_0-logloss:0.56441\tvalidation_1-logloss:0.67006\n",
            "[583]\tvalidation_0-logloss:0.56441\tvalidation_1-logloss:0.67014\n",
            "[584]\tvalidation_0-logloss:0.56438\tvalidation_1-logloss:0.67007\n",
            "[585]\tvalidation_0-logloss:0.56438\tvalidation_1-logloss:0.67007\n",
            "[586]\tvalidation_0-logloss:0.56437\tvalidation_1-logloss:0.67017\n",
            "[587]\tvalidation_0-logloss:0.56437\tvalidation_1-logloss:0.67017\n",
            "[588]\tvalidation_0-logloss:0.56437\tvalidation_1-logloss:0.67017\n",
            "[589]\tvalidation_0-logloss:0.56435\tvalidation_1-logloss:0.67013\n",
            "[590]\tvalidation_0-logloss:0.56433\tvalidation_1-logloss:0.67018\n",
            "[591]\tvalidation_0-logloss:0.56433\tvalidation_1-logloss:0.67018\n",
            "[592]\tvalidation_0-logloss:0.56433\tvalidation_1-logloss:0.67018\n",
            "[593]\tvalidation_0-logloss:0.56433\tvalidation_1-logloss:0.67015\n",
            "[594]\tvalidation_0-logloss:0.56433\tvalidation_1-logloss:0.67015\n",
            "[595]\tvalidation_0-logloss:0.56431\tvalidation_1-logloss:0.67031\n",
            "[596]\tvalidation_0-logloss:0.56431\tvalidation_1-logloss:0.67039\n",
            "[597]\tvalidation_0-logloss:0.56429\tvalidation_1-logloss:0.67065\n",
            "[598]\tvalidation_0-logloss:0.56429\tvalidation_1-logloss:0.67065\n",
            "[599]\tvalidation_0-logloss:0.56426\tvalidation_1-logloss:0.67079\n",
            "[600]\tvalidation_0-logloss:0.56425\tvalidation_1-logloss:0.67079\n",
            "[601]\tvalidation_0-logloss:0.56422\tvalidation_1-logloss:0.67087\n",
            "[602]\tvalidation_0-logloss:0.56422\tvalidation_1-logloss:0.67087\n",
            "[603]\tvalidation_0-logloss:0.56420\tvalidation_1-logloss:0.67095\n",
            "[604]\tvalidation_0-logloss:0.56420\tvalidation_1-logloss:0.67096\n",
            "[605]\tvalidation_0-logloss:0.56420\tvalidation_1-logloss:0.67096\n",
            "[606]\tvalidation_0-logloss:0.56418\tvalidation_1-logloss:0.67099\n",
            "[607]\tvalidation_0-logloss:0.56418\tvalidation_1-logloss:0.67100\n",
            "[608]\tvalidation_0-logloss:0.56417\tvalidation_1-logloss:0.67109\n",
            "[609]\tvalidation_0-logloss:0.56417\tvalidation_1-logloss:0.67109\n",
            "[610]\tvalidation_0-logloss:0.56415\tvalidation_1-logloss:0.67112\n",
            "[611]\tvalidation_0-logloss:0.56415\tvalidation_1-logloss:0.67114\n",
            "[612]\tvalidation_0-logloss:0.56414\tvalidation_1-logloss:0.67114\n",
            "[613]\tvalidation_0-logloss:0.56412\tvalidation_1-logloss:0.67114\n",
            "[614]\tvalidation_0-logloss:0.56411\tvalidation_1-logloss:0.67118\n",
            "[615]\tvalidation_0-logloss:0.56411\tvalidation_1-logloss:0.67118\n",
            "[616]\tvalidation_0-logloss:0.56410\tvalidation_1-logloss:0.67128\n",
            "[617]\tvalidation_0-logloss:0.56408\tvalidation_1-logloss:0.67116\n",
            "[618]\tvalidation_0-logloss:0.56405\tvalidation_1-logloss:0.67103\n",
            "[619]\tvalidation_0-logloss:0.56403\tvalidation_1-logloss:0.67135\n",
            "[620]\tvalidation_0-logloss:0.56402\tvalidation_1-logloss:0.67139\n",
            "[621]\tvalidation_0-logloss:0.56400\tvalidation_1-logloss:0.67139\n",
            "[622]\tvalidation_0-logloss:0.56399\tvalidation_1-logloss:0.67140\n",
            "[623]\tvalidation_0-logloss:0.56398\tvalidation_1-logloss:0.67151\n",
            "[624]\tvalidation_0-logloss:0.56395\tvalidation_1-logloss:0.67155\n",
            "[625]\tvalidation_0-logloss:0.56395\tvalidation_1-logloss:0.67155\n",
            "[626]\tvalidation_0-logloss:0.56394\tvalidation_1-logloss:0.67158\n",
            "[627]\tvalidation_0-logloss:0.56393\tvalidation_1-logloss:0.67159\n",
            "[628]\tvalidation_0-logloss:0.56393\tvalidation_1-logloss:0.67161\n",
            "[629]\tvalidation_0-logloss:0.56392\tvalidation_1-logloss:0.67162\n",
            "[630]\tvalidation_0-logloss:0.56392\tvalidation_1-logloss:0.67162\n",
            "[631]\tvalidation_0-logloss:0.56390\tvalidation_1-logloss:0.67184\n",
            "[632]\tvalidation_0-logloss:0.56388\tvalidation_1-logloss:0.67189\n",
            "[633]\tvalidation_0-logloss:0.56388\tvalidation_1-logloss:0.67189\n",
            "[634]\tvalidation_0-logloss:0.56387\tvalidation_1-logloss:0.67202\n",
            "[635]\tvalidation_0-logloss:0.56385\tvalidation_1-logloss:0.67199\n",
            "[636]\tvalidation_0-logloss:0.56384\tvalidation_1-logloss:0.67200\n",
            "[637]\tvalidation_0-logloss:0.56384\tvalidation_1-logloss:0.67200\n",
            "[638]\tvalidation_0-logloss:0.56382\tvalidation_1-logloss:0.67232\n",
            "[639]\tvalidation_0-logloss:0.56381\tvalidation_1-logloss:0.67241\n",
            "[640]\tvalidation_0-logloss:0.56380\tvalidation_1-logloss:0.67226\n",
            "[641]\tvalidation_0-logloss:0.56379\tvalidation_1-logloss:0.67228\n",
            "[642]\tvalidation_0-logloss:0.56378\tvalidation_1-logloss:0.67231\n",
            "[643]\tvalidation_0-logloss:0.56378\tvalidation_1-logloss:0.67238\n",
            "[644]\tvalidation_0-logloss:0.56378\tvalidation_1-logloss:0.67239\n",
            "[645]\tvalidation_0-logloss:0.56376\tvalidation_1-logloss:0.67229\n",
            "[646]\tvalidation_0-logloss:0.56374\tvalidation_1-logloss:0.67226\n",
            "[647]\tvalidation_0-logloss:0.56372\tvalidation_1-logloss:0.67236\n",
            "[648]\tvalidation_0-logloss:0.56372\tvalidation_1-logloss:0.67236\n",
            "[649]\tvalidation_0-logloss:0.56371\tvalidation_1-logloss:0.67242\n",
            "[650]\tvalidation_0-logloss:0.56369\tvalidation_1-logloss:0.67259\n",
            "[651]\tvalidation_0-logloss:0.56368\tvalidation_1-logloss:0.67259\n",
            "[652]\tvalidation_0-logloss:0.56365\tvalidation_1-logloss:0.67274\n",
            "[653]\tvalidation_0-logloss:0.56364\tvalidation_1-logloss:0.67262\n",
            "[654]\tvalidation_0-logloss:0.56361\tvalidation_1-logloss:0.67251\n",
            "[655]\tvalidation_0-logloss:0.56361\tvalidation_1-logloss:0.67251\n",
            "[656]\tvalidation_0-logloss:0.56360\tvalidation_1-logloss:0.67260\n",
            "[657]\tvalidation_0-logloss:0.56359\tvalidation_1-logloss:0.67266\n",
            "[658]\tvalidation_0-logloss:0.56359\tvalidation_1-logloss:0.67266\n",
            "[659]\tvalidation_0-logloss:0.56359\tvalidation_1-logloss:0.67266\n",
            "[660]\tvalidation_0-logloss:0.56357\tvalidation_1-logloss:0.67256\n",
            "[661]\tvalidation_0-logloss:0.56354\tvalidation_1-logloss:0.67266\n",
            "[662]\tvalidation_0-logloss:0.56353\tvalidation_1-logloss:0.67273\n",
            "[663]\tvalidation_0-logloss:0.56351\tvalidation_1-logloss:0.67282\n",
            "[664]\tvalidation_0-logloss:0.56349\tvalidation_1-logloss:0.67292\n",
            "[665]\tvalidation_0-logloss:0.56348\tvalidation_1-logloss:0.67292\n",
            "[666]\tvalidation_0-logloss:0.56348\tvalidation_1-logloss:0.67306\n",
            "[667]\tvalidation_0-logloss:0.56348\tvalidation_1-logloss:0.67306\n",
            "[668]\tvalidation_0-logloss:0.56347\tvalidation_1-logloss:0.67312\n",
            "[669]\tvalidation_0-logloss:0.56346\tvalidation_1-logloss:0.67306\n",
            "[670]\tvalidation_0-logloss:0.56346\tvalidation_1-logloss:0.67306\n",
            "[671]\tvalidation_0-logloss:0.56345\tvalidation_1-logloss:0.67305\n",
            "[672]\tvalidation_0-logloss:0.56344\tvalidation_1-logloss:0.67316\n",
            "[673]\tvalidation_0-logloss:0.56341\tvalidation_1-logloss:0.67339\n",
            "[674]\tvalidation_0-logloss:0.56341\tvalidation_1-logloss:0.67339\n",
            "[675]\tvalidation_0-logloss:0.56341\tvalidation_1-logloss:0.67337\n",
            "[676]\tvalidation_0-logloss:0.56338\tvalidation_1-logloss:0.67317\n",
            "[677]\tvalidation_0-logloss:0.56337\tvalidation_1-logloss:0.67330\n",
            "[678]\tvalidation_0-logloss:0.56336\tvalidation_1-logloss:0.67337\n",
            "[679]\tvalidation_0-logloss:0.56335\tvalidation_1-logloss:0.67349\n",
            "[680]\tvalidation_0-logloss:0.56334\tvalidation_1-logloss:0.67343\n",
            "[681]\tvalidation_0-logloss:0.56332\tvalidation_1-logloss:0.67343\n",
            "[682]\tvalidation_0-logloss:0.56330\tvalidation_1-logloss:0.67371\n",
            "[683]\tvalidation_0-logloss:0.56328\tvalidation_1-logloss:0.67352\n",
            "[684]\tvalidation_0-logloss:0.56328\tvalidation_1-logloss:0.67352\n",
            "[685]\tvalidation_0-logloss:0.56328\tvalidation_1-logloss:0.67352\n",
            "[686]\tvalidation_0-logloss:0.56328\tvalidation_1-logloss:0.67352\n",
            "[687]\tvalidation_0-logloss:0.56326\tvalidation_1-logloss:0.67368\n",
            "[688]\tvalidation_0-logloss:0.56326\tvalidation_1-logloss:0.67371\n",
            "[689]\tvalidation_0-logloss:0.56324\tvalidation_1-logloss:0.67373\n",
            "[690]\tvalidation_0-logloss:0.56324\tvalidation_1-logloss:0.67373\n",
            "[691]\tvalidation_0-logloss:0.56324\tvalidation_1-logloss:0.67374\n",
            "[692]\tvalidation_0-logloss:0.56323\tvalidation_1-logloss:0.67381\n",
            "[693]\tvalidation_0-logloss:0.56321\tvalidation_1-logloss:0.67380\n",
            "[694]\tvalidation_0-logloss:0.56321\tvalidation_1-logloss:0.67382\n",
            "[695]\tvalidation_0-logloss:0.56321\tvalidation_1-logloss:0.67382\n",
            "[696]\tvalidation_0-logloss:0.56318\tvalidation_1-logloss:0.67378\n",
            "[697]\tvalidation_0-logloss:0.56317\tvalidation_1-logloss:0.67393\n",
            "[698]\tvalidation_0-logloss:0.56317\tvalidation_1-logloss:0.67393\n",
            "[699]\tvalidation_0-logloss:0.56316\tvalidation_1-logloss:0.67395\n",
            "[700]\tvalidation_0-logloss:0.56315\tvalidation_1-logloss:0.67398\n",
            "[701]\tvalidation_0-logloss:0.56315\tvalidation_1-logloss:0.67400\n",
            "[702]\tvalidation_0-logloss:0.56313\tvalidation_1-logloss:0.67413\n",
            "[703]\tvalidation_0-logloss:0.56312\tvalidation_1-logloss:0.67417\n",
            "[704]\tvalidation_0-logloss:0.56311\tvalidation_1-logloss:0.67422\n",
            "[705]\tvalidation_0-logloss:0.56311\tvalidation_1-logloss:0.67422\n",
            "[706]\tvalidation_0-logloss:0.56310\tvalidation_1-logloss:0.67424\n",
            "[707]\tvalidation_0-logloss:0.56310\tvalidation_1-logloss:0.67424\n",
            "[708]\tvalidation_0-logloss:0.56305\tvalidation_1-logloss:0.67437\n",
            "[709]\tvalidation_0-logloss:0.56303\tvalidation_1-logloss:0.67434\n",
            "[710]\tvalidation_0-logloss:0.56303\tvalidation_1-logloss:0.67434\n",
            "[711]\tvalidation_0-logloss:0.56303\tvalidation_1-logloss:0.67434\n",
            "[712]\tvalidation_0-logloss:0.56302\tvalidation_1-logloss:0.67437\n",
            "[713]\tvalidation_0-logloss:0.56301\tvalidation_1-logloss:0.67448\n",
            "[714]\tvalidation_0-logloss:0.56300\tvalidation_1-logloss:0.67461\n",
            "[715]\tvalidation_0-logloss:0.56299\tvalidation_1-logloss:0.67461\n",
            "[716]\tvalidation_0-logloss:0.56298\tvalidation_1-logloss:0.67468\n",
            "[717]\tvalidation_0-logloss:0.56295\tvalidation_1-logloss:0.67454\n",
            "[718]\tvalidation_0-logloss:0.56295\tvalidation_1-logloss:0.67454\n",
            "[719]\tvalidation_0-logloss:0.56288\tvalidation_1-logloss:0.67454\n",
            "[720]\tvalidation_0-logloss:0.56287\tvalidation_1-logloss:0.67455\n",
            "[721]\tvalidation_0-logloss:0.56286\tvalidation_1-logloss:0.67475\n",
            "[722]\tvalidation_0-logloss:0.56286\tvalidation_1-logloss:0.67475\n",
            "[723]\tvalidation_0-logloss:0.56284\tvalidation_1-logloss:0.67478\n",
            "[724]\tvalidation_0-logloss:0.56283\tvalidation_1-logloss:0.67482\n",
            "[725]\tvalidation_0-logloss:0.56283\tvalidation_1-logloss:0.67482\n",
            "[726]\tvalidation_0-logloss:0.56281\tvalidation_1-logloss:0.67478\n",
            "[727]\tvalidation_0-logloss:0.56280\tvalidation_1-logloss:0.67483\n",
            "[728]\tvalidation_0-logloss:0.56279\tvalidation_1-logloss:0.67488\n",
            "[729]\tvalidation_0-logloss:0.56277\tvalidation_1-logloss:0.67514\n",
            "[730]\tvalidation_0-logloss:0.56277\tvalidation_1-logloss:0.67514\n",
            "[731]\tvalidation_0-logloss:0.56277\tvalidation_1-logloss:0.67517\n",
            "[732]\tvalidation_0-logloss:0.56276\tvalidation_1-logloss:0.67517\n",
            "[733]\tvalidation_0-logloss:0.56276\tvalidation_1-logloss:0.67517\n",
            "[734]\tvalidation_0-logloss:0.56275\tvalidation_1-logloss:0.67523\n",
            "[735]\tvalidation_0-logloss:0.56273\tvalidation_1-logloss:0.67514\n",
            "[736]\tvalidation_0-logloss:0.56271\tvalidation_1-logloss:0.67522\n",
            "[737]\tvalidation_0-logloss:0.56270\tvalidation_1-logloss:0.67521\n",
            "[738]\tvalidation_0-logloss:0.56270\tvalidation_1-logloss:0.67521\n",
            "[739]\tvalidation_0-logloss:0.56268\tvalidation_1-logloss:0.67550\n",
            "[740]\tvalidation_0-logloss:0.56268\tvalidation_1-logloss:0.67553\n",
            "[741]\tvalidation_0-logloss:0.56268\tvalidation_1-logloss:0.67557\n",
            "[742]\tvalidation_0-logloss:0.56266\tvalidation_1-logloss:0.67555\n",
            "[743]\tvalidation_0-logloss:0.56266\tvalidation_1-logloss:0.67555\n",
            "[744]\tvalidation_0-logloss:0.56266\tvalidation_1-logloss:0.67555\n",
            "[745]\tvalidation_0-logloss:0.56266\tvalidation_1-logloss:0.67555\n",
            "[746]\tvalidation_0-logloss:0.56266\tvalidation_1-logloss:0.67555\n",
            "[747]\tvalidation_0-logloss:0.56266\tvalidation_1-logloss:0.67555\n",
            "[748]\tvalidation_0-logloss:0.56266\tvalidation_1-logloss:0.67555\n",
            "[749]\tvalidation_0-logloss:0.56266\tvalidation_1-logloss:0.67566\n",
            "[750]\tvalidation_0-logloss:0.56266\tvalidation_1-logloss:0.67566\n",
            "[751]\tvalidation_0-logloss:0.56265\tvalidation_1-logloss:0.67571\n",
            "[752]\tvalidation_0-logloss:0.56265\tvalidation_1-logloss:0.67571\n",
            "[753]\tvalidation_0-logloss:0.56263\tvalidation_1-logloss:0.67578\n",
            "[754]\tvalidation_0-logloss:0.56262\tvalidation_1-logloss:0.67589\n",
            "[755]\tvalidation_0-logloss:0.56261\tvalidation_1-logloss:0.67590\n",
            "[756]\tvalidation_0-logloss:0.56261\tvalidation_1-logloss:0.67590\n",
            "[757]\tvalidation_0-logloss:0.56259\tvalidation_1-logloss:0.67592\n",
            "[758]\tvalidation_0-logloss:0.56258\tvalidation_1-logloss:0.67591\n",
            "[759]\tvalidation_0-logloss:0.56258\tvalidation_1-logloss:0.67596\n",
            "[760]\tvalidation_0-logloss:0.56254\tvalidation_1-logloss:0.67610\n",
            "[761]\tvalidation_0-logloss:0.56251\tvalidation_1-logloss:0.67615\n",
            "[762]\tvalidation_0-logloss:0.56251\tvalidation_1-logloss:0.67618\n",
            "[763]\tvalidation_0-logloss:0.56251\tvalidation_1-logloss:0.67618\n",
            "[764]\tvalidation_0-logloss:0.56250\tvalidation_1-logloss:0.67624\n",
            "[765]\tvalidation_0-logloss:0.56249\tvalidation_1-logloss:0.67628\n",
            "[766]\tvalidation_0-logloss:0.56246\tvalidation_1-logloss:0.67632\n",
            "[767]\tvalidation_0-logloss:0.56245\tvalidation_1-logloss:0.67646\n",
            "[768]\tvalidation_0-logloss:0.56242\tvalidation_1-logloss:0.67634\n",
            "[769]\tvalidation_0-logloss:0.56241\tvalidation_1-logloss:0.67637\n",
            "[770]\tvalidation_0-logloss:0.56239\tvalidation_1-logloss:0.67645\n",
            "[771]\tvalidation_0-logloss:0.56239\tvalidation_1-logloss:0.67645\n",
            "[772]\tvalidation_0-logloss:0.56238\tvalidation_1-logloss:0.67642\n",
            "[773]\tvalidation_0-logloss:0.56237\tvalidation_1-logloss:0.67644\n",
            "[774]\tvalidation_0-logloss:0.56237\tvalidation_1-logloss:0.67642\n",
            "[775]\tvalidation_0-logloss:0.56235\tvalidation_1-logloss:0.67642\n",
            "[776]\tvalidation_0-logloss:0.56235\tvalidation_1-logloss:0.67644\n",
            "[777]\tvalidation_0-logloss:0.56234\tvalidation_1-logloss:0.67655\n",
            "[778]\tvalidation_0-logloss:0.56233\tvalidation_1-logloss:0.67665\n",
            "[779]\tvalidation_0-logloss:0.56232\tvalidation_1-logloss:0.67667\n",
            "[780]\tvalidation_0-logloss:0.56231\tvalidation_1-logloss:0.67683\n",
            "[781]\tvalidation_0-logloss:0.56228\tvalidation_1-logloss:0.67705\n",
            "[782]\tvalidation_0-logloss:0.56227\tvalidation_1-logloss:0.67710\n",
            "[783]\tvalidation_0-logloss:0.56225\tvalidation_1-logloss:0.67722\n",
            "[784]\tvalidation_0-logloss:0.56225\tvalidation_1-logloss:0.67722\n",
            "[785]\tvalidation_0-logloss:0.56223\tvalidation_1-logloss:0.67720\n",
            "[786]\tvalidation_0-logloss:0.56220\tvalidation_1-logloss:0.67726\n",
            "[787]\tvalidation_0-logloss:0.56220\tvalidation_1-logloss:0.67726\n",
            "[788]\tvalidation_0-logloss:0.56220\tvalidation_1-logloss:0.67726\n",
            "[789]\tvalidation_0-logloss:0.56220\tvalidation_1-logloss:0.67725\n",
            "[790]\tvalidation_0-logloss:0.56219\tvalidation_1-logloss:0.67725\n",
            "[791]\tvalidation_0-logloss:0.56218\tvalidation_1-logloss:0.67719\n",
            "[792]\tvalidation_0-logloss:0.56217\tvalidation_1-logloss:0.67720\n",
            "[793]\tvalidation_0-logloss:0.56217\tvalidation_1-logloss:0.67720\n",
            "[794]\tvalidation_0-logloss:0.56217\tvalidation_1-logloss:0.67721\n",
            "[795]\tvalidation_0-logloss:0.56217\tvalidation_1-logloss:0.67721\n",
            "[796]\tvalidation_0-logloss:0.56216\tvalidation_1-logloss:0.67727\n",
            "[797]\tvalidation_0-logloss:0.56214\tvalidation_1-logloss:0.67735\n",
            "[798]\tvalidation_0-logloss:0.56214\tvalidation_1-logloss:0.67745\n",
            "[799]\tvalidation_0-logloss:0.56214\tvalidation_1-logloss:0.67750\n",
            "[800]\tvalidation_0-logloss:0.56212\tvalidation_1-logloss:0.67753\n",
            "[801]\tvalidation_0-logloss:0.56211\tvalidation_1-logloss:0.67758\n",
            "[802]\tvalidation_0-logloss:0.56211\tvalidation_1-logloss:0.67760\n",
            "[803]\tvalidation_0-logloss:0.56210\tvalidation_1-logloss:0.67768\n",
            "[804]\tvalidation_0-logloss:0.56210\tvalidation_1-logloss:0.67770\n",
            "[805]\tvalidation_0-logloss:0.56202\tvalidation_1-logloss:0.67762\n",
            "[806]\tvalidation_0-logloss:0.56202\tvalidation_1-logloss:0.67762\n",
            "[807]\tvalidation_0-logloss:0.56201\tvalidation_1-logloss:0.67765\n",
            "[808]\tvalidation_0-logloss:0.56198\tvalidation_1-logloss:0.67768\n",
            "[809]\tvalidation_0-logloss:0.56198\tvalidation_1-logloss:0.67770\n",
            "[810]\tvalidation_0-logloss:0.56198\tvalidation_1-logloss:0.67770\n",
            "[811]\tvalidation_0-logloss:0.56197\tvalidation_1-logloss:0.67773\n",
            "[812]\tvalidation_0-logloss:0.56197\tvalidation_1-logloss:0.67775\n",
            "[813]\tvalidation_0-logloss:0.56196\tvalidation_1-logloss:0.67774\n",
            "[814]\tvalidation_0-logloss:0.56196\tvalidation_1-logloss:0.67779\n",
            "[815]\tvalidation_0-logloss:0.56196\tvalidation_1-logloss:0.67779\n",
            "[816]\tvalidation_0-logloss:0.56194\tvalidation_1-logloss:0.67789\n",
            "[817]\tvalidation_0-logloss:0.56193\tvalidation_1-logloss:0.67790\n",
            "[818]\tvalidation_0-logloss:0.56192\tvalidation_1-logloss:0.67793\n",
            "[819]\tvalidation_0-logloss:0.56191\tvalidation_1-logloss:0.67794\n",
            "[820]\tvalidation_0-logloss:0.56191\tvalidation_1-logloss:0.67794\n",
            "[821]\tvalidation_0-logloss:0.56189\tvalidation_1-logloss:0.67775\n",
            "[822]\tvalidation_0-logloss:0.56188\tvalidation_1-logloss:0.67777\n",
            "[823]\tvalidation_0-logloss:0.56186\tvalidation_1-logloss:0.67811\n",
            "[824]\tvalidation_0-logloss:0.56186\tvalidation_1-logloss:0.67805\n",
            "[825]\tvalidation_0-logloss:0.56185\tvalidation_1-logloss:0.67813\n",
            "[826]\tvalidation_0-logloss:0.56185\tvalidation_1-logloss:0.67813\n",
            "[827]\tvalidation_0-logloss:0.56185\tvalidation_1-logloss:0.67813\n",
            "[828]\tvalidation_0-logloss:0.56185\tvalidation_1-logloss:0.67826\n",
            "[829]\tvalidation_0-logloss:0.56183\tvalidation_1-logloss:0.67839\n",
            "[830]\tvalidation_0-logloss:0.56183\tvalidation_1-logloss:0.67834\n",
            "[831]\tvalidation_0-logloss:0.56181\tvalidation_1-logloss:0.67845\n",
            "[832]\tvalidation_0-logloss:0.56181\tvalidation_1-logloss:0.67858\n",
            "[833]\tvalidation_0-logloss:0.56181\tvalidation_1-logloss:0.67858\n",
            "[834]\tvalidation_0-logloss:0.56180\tvalidation_1-logloss:0.67848\n",
            "[835]\tvalidation_0-logloss:0.56180\tvalidation_1-logloss:0.67849\n",
            "[836]\tvalidation_0-logloss:0.56180\tvalidation_1-logloss:0.67849\n",
            "[837]\tvalidation_0-logloss:0.56179\tvalidation_1-logloss:0.67834\n",
            "[838]\tvalidation_0-logloss:0.56177\tvalidation_1-logloss:0.67860\n",
            "[839]\tvalidation_0-logloss:0.56176\tvalidation_1-logloss:0.67876\n",
            "[840]\tvalidation_0-logloss:0.56175\tvalidation_1-logloss:0.67882\n",
            "[841]\tvalidation_0-logloss:0.56173\tvalidation_1-logloss:0.67866\n",
            "[842]\tvalidation_0-logloss:0.56172\tvalidation_1-logloss:0.67880\n",
            "[843]\tvalidation_0-logloss:0.56166\tvalidation_1-logloss:0.67878\n",
            "[844]\tvalidation_0-logloss:0.56163\tvalidation_1-logloss:0.67876\n",
            "[845]\tvalidation_0-logloss:0.56163\tvalidation_1-logloss:0.67874\n",
            "[846]\tvalidation_0-logloss:0.56160\tvalidation_1-logloss:0.67887\n",
            "[847]\tvalidation_0-logloss:0.56160\tvalidation_1-logloss:0.67887\n",
            "[848]\tvalidation_0-logloss:0.56158\tvalidation_1-logloss:0.67886\n",
            "[849]\tvalidation_0-logloss:0.56156\tvalidation_1-logloss:0.67884\n",
            "[850]\tvalidation_0-logloss:0.56154\tvalidation_1-logloss:0.67871\n",
            "[851]\tvalidation_0-logloss:0.56151\tvalidation_1-logloss:0.67860\n",
            "[852]\tvalidation_0-logloss:0.56151\tvalidation_1-logloss:0.67861\n",
            "[853]\tvalidation_0-logloss:0.56149\tvalidation_1-logloss:0.67873\n",
            "[854]\tvalidation_0-logloss:0.56147\tvalidation_1-logloss:0.67878\n",
            "[855]\tvalidation_0-logloss:0.56146\tvalidation_1-logloss:0.67883\n",
            "[856]\tvalidation_0-logloss:0.56145\tvalidation_1-logloss:0.67877\n",
            "[857]\tvalidation_0-logloss:0.56144\tvalidation_1-logloss:0.67883\n",
            "[858]\tvalidation_0-logloss:0.56144\tvalidation_1-logloss:0.67883\n",
            "[859]\tvalidation_0-logloss:0.56143\tvalidation_1-logloss:0.67872\n",
            "[860]\tvalidation_0-logloss:0.56138\tvalidation_1-logloss:0.67884\n",
            "[861]\tvalidation_0-logloss:0.56137\tvalidation_1-logloss:0.67881\n",
            "[862]\tvalidation_0-logloss:0.56135\tvalidation_1-logloss:0.67882\n",
            "[863]\tvalidation_0-logloss:0.56134\tvalidation_1-logloss:0.67889\n",
            "[864]\tvalidation_0-logloss:0.56133\tvalidation_1-logloss:0.67889\n",
            "[865]\tvalidation_0-logloss:0.56133\tvalidation_1-logloss:0.67888\n",
            "[866]\tvalidation_0-logloss:0.56132\tvalidation_1-logloss:0.67898\n",
            "[867]\tvalidation_0-logloss:0.56132\tvalidation_1-logloss:0.67898\n",
            "[868]\tvalidation_0-logloss:0.56132\tvalidation_1-logloss:0.67898\n",
            "[869]\tvalidation_0-logloss:0.56130\tvalidation_1-logloss:0.67887\n",
            "[870]\tvalidation_0-logloss:0.56129\tvalidation_1-logloss:0.67897\n",
            "[871]\tvalidation_0-logloss:0.56128\tvalidation_1-logloss:0.67897\n",
            "[872]\tvalidation_0-logloss:0.56128\tvalidation_1-logloss:0.67897\n",
            "[873]\tvalidation_0-logloss:0.56128\tvalidation_1-logloss:0.67897\n",
            "[874]\tvalidation_0-logloss:0.56127\tvalidation_1-logloss:0.67904\n",
            "[875]\tvalidation_0-logloss:0.56127\tvalidation_1-logloss:0.67904\n",
            "[876]\tvalidation_0-logloss:0.56126\tvalidation_1-logloss:0.67908\n",
            "[877]\tvalidation_0-logloss:0.56126\tvalidation_1-logloss:0.67920\n",
            "[878]\tvalidation_0-logloss:0.56125\tvalidation_1-logloss:0.67920\n",
            "[879]\tvalidation_0-logloss:0.56125\tvalidation_1-logloss:0.67924\n",
            "[880]\tvalidation_0-logloss:0.56124\tvalidation_1-logloss:0.67914\n",
            "[881]\tvalidation_0-logloss:0.56122\tvalidation_1-logloss:0.67902\n",
            "[882]\tvalidation_0-logloss:0.56120\tvalidation_1-logloss:0.67910\n",
            "[883]\tvalidation_0-logloss:0.56119\tvalidation_1-logloss:0.67921\n",
            "[884]\tvalidation_0-logloss:0.56118\tvalidation_1-logloss:0.67920\n",
            "[885]\tvalidation_0-logloss:0.56118\tvalidation_1-logloss:0.67920\n",
            "[886]\tvalidation_0-logloss:0.56117\tvalidation_1-logloss:0.67900\n",
            "[887]\tvalidation_0-logloss:0.56114\tvalidation_1-logloss:0.67920\n",
            "[888]\tvalidation_0-logloss:0.56113\tvalidation_1-logloss:0.67933\n",
            "[889]\tvalidation_0-logloss:0.56112\tvalidation_1-logloss:0.67934\n",
            "[890]\tvalidation_0-logloss:0.56112\tvalidation_1-logloss:0.67934\n",
            "[891]\tvalidation_0-logloss:0.56111\tvalidation_1-logloss:0.67954\n",
            "[892]\tvalidation_0-logloss:0.56110\tvalidation_1-logloss:0.67953\n",
            "[893]\tvalidation_0-logloss:0.56111\tvalidation_1-logloss:0.67953\n",
            "[894]\tvalidation_0-logloss:0.56110\tvalidation_1-logloss:0.67953\n",
            "[895]\tvalidation_0-logloss:0.56108\tvalidation_1-logloss:0.67956\n",
            "[896]\tvalidation_0-logloss:0.56107\tvalidation_1-logloss:0.67964\n",
            "[897]\tvalidation_0-logloss:0.56106\tvalidation_1-logloss:0.67952\n",
            "[898]\tvalidation_0-logloss:0.56103\tvalidation_1-logloss:0.67961\n",
            "[899]\tvalidation_0-logloss:0.56100\tvalidation_1-logloss:0.67979\n"
          ]
        },
        {
          "data": {
            "text/plain": [
              "XGBClassifier(base_score=0.5, booster='gbtree', colsample_bylevel=0.25,\n",
              "              colsample_bynode=1, colsample_bytree=0.25, depth=3, gamma=0,\n",
              "              gpu_id=-1, importance_type='gain', interaction_constraints='',\n",
              "              learning_rate=0.300000012, max_delta_step=0, max_depth=6,\n",
              "              min_child_weight=1, missing=nan, monotone_constraints='()',\n",
              "              n_estimators=900, n_jobs=16, num_parallel_tree=1, random_state=0,\n",
              "              reg_alpha=0, reg_lambda=1, scale_pos_weight=1, subsample=1,\n",
              "              tree_method='exact', validate_parameters=1, verbose=False,\n",
              "              verbosity=None)"
            ]
          },
          "execution_count": 24,
          "metadata": {},
          "output_type": "execute_result"
        }
      ],
      "source": [
        "#building the initial model\n",
        "\n",
        "initial_model =  xgb.XGBClassifier(n_estimators= 900,depth = 3, colsample_bytree = 0.25, colsample_bylevel = 0.25, verbose =False)\n",
        "\n",
        "evalset = [(X_train, y_train), (X_test,y_test)]\n",
        "\n",
        "initial_model.fit(X_train, y_train,eval_set=evalset)\n"
      ]
    },
    {
      "cell_type": "code",
      "execution_count": null,
      "id": "9366f470-360c-4286-a199-62dd0d217e1a",
      "metadata": {
        "id": "9366f470-360c-4286-a199-62dd0d217e1a",
        "outputId": "10fe7af5-8e5e-4338-e60b-3fa0eaf2f2ce"
      },
      "outputs": [
        {
          "data": {
            "image/png": "[encoded data removed]",
            "text/plain": [
              "<Figure size 864x576 with 1 Axes>"
            ]
          },
          "metadata": {},
          "output_type": "display_data"
        }
      ],
      "source": [
        "#Plotting the model's logless by iteration\n",
        "\n",
        "inital_results = initial_model.evals_result()\n",
        "fig, ax = plt.subplots(figsize = (12,8))\n",
        "plt.plot(inital_results['validation_0']['logloss'], label='train')\n",
        "plt.plot(inital_results['validation_1']['logloss'], label='test')\n",
        "plt.xlabel('Estimators')\n",
        "plt.ylabel('Logloss')\n",
        "plt.legend();\n"
      ]
    },
    {
      "cell_type": "markdown",
      "id": "24ac332e-50c8-4787-af34-bb62e77cff08",
      "metadata": {
        "id": "24ac332e-50c8-4787-af34-bb62e77cff08"
      },
      "source": [
        "Unsurprisingly, the model overfitted. So, it seems like we need to configure regularization parameters. To get the best parameters in the least time, the parameter search is done with RandomizedSearchCV. It still  took a few minutes though."
      ]
    },
    {
      "cell_type": "code",
      "execution_count": null,
      "id": "4ffed934-5a16-4fa1-b8bd-78d78a6be4fe",
      "metadata": {
        "id": "4ffed934-5a16-4fa1-b8bd-78d78a6be4fe",
        "outputId": "a94a0524-0138-49e2-8260-7cfbb1084c8d"
      },
      "outputs": [
        {
          "name": "stdout",
          "output_type": "stream",
          "text": [
            "[08:48:49] WARNING: ../src/learner.cc:541: \n",
            "Parameters: { depth, verbose } might not be used.\n",
            "\n",
            "  This may not be accurate due to some parameters are only used in language bindings but\n",
            "  passed down to XGBoost core.  Or some parameters are not used but slip through this\n",
            "  verification. Please open an issue if you find above cases.\n",
            "\n",
            "\n",
            "[08:48:49] WARNING: ../src/learner.cc:1061: Starting in XGBoost 1.3.0, the default evaluation metric used with the objective 'binary:logistic' was changed from 'error' to 'logloss'. Explicitly set eval_metric if you'd like to restore the old behavior.\n",
            "[08:48:55] WARNING: ../src/learner.cc:541: \n",
            "Parameters: { depth, verbose } might not be used.\n",
            "\n",
            "  This may not be accurate due to some parameters are only used in language bindings but\n",
            "  passed down to XGBoost core.  Or some parameters are not used but slip through this\n",
            "  verification. Please open an issue if you find above cases.\n",
            "\n",
            "\n",
            "[08:48:55] WARNING: ../src/learner.cc:1061: Starting in XGBoost 1.3.0, the default evaluation metric used with the objective 'binary:logistic' was changed from 'error' to 'logloss'. Explicitly set eval_metric if you'd like to restore the old behavior.\n",
            "[08:49:00] WARNING: ../src/learner.cc:541: \n",
            "Parameters: { depth, verbose } might not be used.\n",
            "\n",
            "  This may not be accurate due to some parameters are only used in language bindings but\n",
            "  passed down to XGBoost core.  Or some parameters are not used but slip through this\n",
            "  verification. Please open an issue if you find above cases.\n",
            "\n",
            "\n",
            "[08:49:00] WARNING: ../src/learner.cc:1061: Starting in XGBoost 1.3.0, the default evaluation metric used with the objective 'binary:logistic' was changed from 'error' to 'logloss'. Explicitly set eval_metric if you'd like to restore the old behavior.\n",
            "[08:49:04] WARNING: ../src/learner.cc:541: \n",
            "Parameters: { depth, verbose } might not be used.\n",
            "\n",
            "  This may not be accurate due to some parameters are only used in language bindings but\n",
            "  passed down to XGBoost core.  Or some parameters are not used but slip through this\n",
            "  verification. Please open an issue if you find above cases.\n",
            "\n",
            "\n",
            "[08:49:04] WARNING: ../src/learner.cc:1061: Starting in XGBoost 1.3.0, the default evaluation metric used with the objective 'binary:logistic' was changed from 'error' to 'logloss'. Explicitly set eval_metric if you'd like to restore the old behavior.\n",
            "[08:49:10] WARNING: ../src/learner.cc:541: \n",
            "Parameters: { depth, verbose } might not be used.\n",
            "\n",
            "  This may not be accurate due to some parameters are only used in language bindings but\n",
            "  passed down to XGBoost core.  Or some parameters are not used but slip through this\n",
            "  verification. Please open an issue if you find above cases.\n",
            "\n",
            "\n",
            "[08:49:10] WARNING: ../src/learner.cc:1061: Starting in XGBoost 1.3.0, the default evaluation metric used with the objective 'binary:logistic' was changed from 'error' to 'logloss'. Explicitly set eval_metric if you'd like to restore the old behavior.\n",
            "[08:49:15] WARNING: ../src/learner.cc:541: \n",
            "Parameters: { depth, verbose } might not be used.\n",
            "\n",
            "  This may not be accurate due to some parameters are only used in language bindings but\n",
            "  passed down to XGBoost core.  Or some parameters are not used but slip through this\n",
            "  verification. Please open an issue if you find above cases.\n",
            "\n",
            "\n",
            "[08:49:15] WARNING: ../src/learner.cc:1061: Starting in XGBoost 1.3.0, the default evaluation metric used with the objective 'binary:logistic' was changed from 'error' to 'logloss'. Explicitly set eval_metric if you'd like to restore the old behavior.\n",
            "[08:49:20] WARNING: ../src/learner.cc:541: \n",
            "Parameters: { depth, verbose } might not be used.\n",
            "\n",
            "  This may not be accurate due to some parameters are only used in language bindings but\n",
            "  passed down to XGBoost core.  Or some parameters are not used but slip through this\n",
            "  verification. Please open an issue if you find above cases.\n",
            "\n",
            "\n",
            "[08:49:20] WARNING: ../src/learner.cc:1061: Starting in XGBoost 1.3.0, the default evaluation metric used with the objective 'binary:logistic' was changed from 'error' to 'logloss'. Explicitly set eval_metric if you'd like to restore the old behavior.\n",
            "[08:49:23] WARNING: ../src/learner.cc:541: \n",
            "Parameters: { depth, verbose } might not be used.\n",
            "\n",
            "  This may not be accurate due to some parameters are only used in language bindings but\n",
            "  passed down to XGBoost core.  Or some parameters are not used but slip through this\n",
            "  verification. Please open an issue if you find above cases.\n",
            "\n",
            "\n",
            "[08:49:23] WARNING: ../src/learner.cc:1061: Starting in XGBoost 1.3.0, the default evaluation metric used with the objective 'binary:logistic' was changed from 'error' to 'logloss'. Explicitly set eval_metric if you'd like to restore the old behavior.\n",
            "[08:49:29] WARNING: ../src/learner.cc:541: \n",
            "Parameters: { depth, verbose } might not be used.\n",
            "\n",
            "  This may not be accurate due to some parameters are only used in language bindings but\n",
            "  passed down to XGBoost core.  Or some parameters are not used but slip through this\n",
            "  verification. Please open an issue if you find above cases.\n",
            "\n",
            "\n",
            "[08:49:29] WARNING: ../src/learner.cc:1061: Starting in XGBoost 1.3.0, the default evaluation metric used with the objective 'binary:logistic' was changed from 'error' to 'logloss'. Explicitly set eval_metric if you'd like to restore the old behavior.\n",
            "[08:49:32] WARNING: ../src/learner.cc:541: \n",
            "Parameters: { depth, verbose } might not be used.\n",
            "\n",
            "  This may not be accurate due to some parameters are only used in language bindings but\n",
            "  passed down to XGBoost core.  Or some parameters are not used but slip through this\n",
            "  verification. Please open an issue if you find above cases.\n",
            "\n",
            "\n",
            "[08:49:32] WARNING: ../src/learner.cc:1061: Starting in XGBoost 1.3.0, the default evaluation metric used with the objective 'binary:logistic' was changed from 'error' to 'logloss'. Explicitly set eval_metric if you'd like to restore the old behavior.\n",
            "[08:49:35] WARNING: ../src/learner.cc:541: \n",
            "Parameters: { depth, verbose } might not be used.\n",
            "\n",
            "  This may not be accurate due to some parameters are only used in language bindings but\n",
            "  passed down to XGBoost core.  Or some parameters are not used but slip through this\n",
            "  verification. Please open an issue if you find above cases.\n",
            "\n",
            "\n",
            "[08:49:35] WARNING: ../src/learner.cc:1061: Starting in XGBoost 1.3.0, the default evaluation metric used with the objective 'binary:logistic' was changed from 'error' to 'logloss'. Explicitly set eval_metric if you'd like to restore the old behavior.\n",
            "[08:49:40] WARNING: ../src/learner.cc:541: \n",
            "Parameters: { depth, verbose } might not be used.\n",
            "\n",
            "  This may not be accurate due to some parameters are only used in language bindings but\n",
            "  passed down to XGBoost core.  Or some parameters are not used but slip through this\n",
            "  verification. Please open an issue if you find above cases.\n",
            "\n",
            "\n",
            "[08:49:40] WARNING: ../src/learner.cc:1061: Starting in XGBoost 1.3.0, the default evaluation metric used with the objective 'binary:logistic' was changed from 'error' to 'logloss'. Explicitly set eval_metric if you'd like to restore the old behavior.\n",
            "[08:49:43] WARNING: ../src/learner.cc:541: \n",
            "Parameters: { depth, verbose } might not be used.\n",
            "\n",
            "  This may not be accurate due to some parameters are only used in language bindings but\n",
            "  passed down to XGBoost core.  Or some parameters are not used but slip through this\n",
            "  verification. Please open an issue if you find above cases.\n",
            "\n",
            "\n",
            "[08:49:43] WARNING: ../src/learner.cc:1061: Starting in XGBoost 1.3.0, the default evaluation metric used with the objective 'binary:logistic' was changed from 'error' to 'logloss'. Explicitly set eval_metric if you'd like to restore the old behavior.\n",
            "[08:49:49] WARNING: ../src/learner.cc:541: \n",
            "Parameters: { depth, verbose } might not be used.\n",
            "\n",
            "  This may not be accurate due to some parameters are only used in language bindings but\n",
            "  passed down to XGBoost core.  Or some parameters are not used but slip through this\n",
            "  verification. Please open an issue if you find above cases.\n",
            "\n",
            "\n",
            "[08:49:49] WARNING: ../src/learner.cc:1061: Starting in XGBoost 1.3.0, the default evaluation metric used with the objective 'binary:logistic' was changed from 'error' to 'logloss'. Explicitly set eval_metric if you'd like to restore the old behavior.\n",
            "[08:49:53] WARNING: ../src/learner.cc:541: \n",
            "Parameters: { depth, verbose } might not be used.\n",
            "\n",
            "  This may not be accurate due to some parameters are only used in language bindings but\n",
            "  passed down to XGBoost core.  Or some parameters are not used but slip through this\n",
            "  verification. Please open an issue if you find above cases.\n",
            "\n",
            "\n",
            "[08:49:53] WARNING: ../src/learner.cc:1061: Starting in XGBoost 1.3.0, the default evaluation metric used with the objective 'binary:logistic' was changed from 'error' to 'logloss'. Explicitly set eval_metric if you'd like to restore the old behavior.\n",
            "[08:50:00] WARNING: ../src/learner.cc:541: \n",
            "Parameters: { depth, verbose } might not be used.\n",
            "\n",
            "  This may not be accurate due to some parameters are only used in language bindings but\n",
            "  passed down to XGBoost core.  Or some parameters are not used but slip through this\n",
            "  verification. Please open an issue if you find above cases.\n",
            "\n",
            "\n",
            "[08:50:00] WARNING: ../src/learner.cc:1061: Starting in XGBoost 1.3.0, the default evaluation metric used with the objective 'binary:logistic' was changed from 'error' to 'logloss'. Explicitly set eval_metric if you'd like to restore the old behavior.\n",
            "{'reg_lambda': 15, 'min_child_weight': 24, 'eta': 0.004, 'alpha': 30}\n",
            "0.6523121387283237\n"
          ]
        }
      ],
      "source": [
        "param_grid = {\n",
        "                'alpha' : np.arange(10,35,5),\n",
        "                'min_child_weight' : np.arange(16,36,4),\n",
        "                'reg_lambda': np.arange(15,35,5),\n",
        "                'eta' : np.arange(0.0025, 0.007, 0.0015)\n",
        "    \n",
        "                }\n",
        "\n",
        "rcv = RandomizedSearchCV(estimator= initial_model, param_distributions = param_grid, scoring= 'precision_micro',  cv=5, verbose=0, n_iter = 3, random_state = 42)\n",
        "rcv.fit(X,y)\n",
        "print(rcv.best_params_)\n",
        "print(rcv.best_score_)"
      ]
    },
    {
      "cell_type": "code",
      "execution_count": null,
      "id": "8cb16b90-8473-4c72-a742-0f41753849b7",
      "metadata": {
        "id": "8cb16b90-8473-4c72-a742-0f41753849b7",
        "outputId": "c399d23b-2c12-4322-dd9c-faa182b5761a"
      },
      "outputs": [
        {
          "name": "stdout",
          "output_type": "stream",
          "text": [
            "[09:02:34] WARNING: ../src/learner.cc:541: \n",
            "Parameters: { depth, verbose } might not be used.\n",
            "\n",
            "  This may not be accurate due to some parameters are only used in language bindings but\n",
            "  passed down to XGBoost core.  Or some parameters are not used but slip through this\n",
            "  verification. Please open an issue if you find above cases.\n",
            "\n",
            "\n",
            "[09:02:34] WARNING: ../src/learner.cc:1061: Starting in XGBoost 1.3.0, the default evaluation metric used with the objective 'binary:logistic' was changed from 'error' to 'logloss'. Explicitly set eval_metric if you'd like to restore the old behavior.\n"
          ]
        },
        {
          "data": {
            "text/plain": [
              "0.6705202312138728"
            ]
          },
          "execution_count": 38,
          "metadata": {},
          "output_type": "execute_result"
        }
      ],
      "source": [
        "#Final model, NOTE : I eventually decided to take only the min_child_weight parameter given by the randomized search and tune the rest manually.\n",
        "#The model below yielded the best results.\n",
        "from sklearn.metrics import precision_score\n",
        "\n",
        "final_model = xgb.XGBClassifier(n_estimators= 900, depth = 3,  alpha = 20, colsample_bytree = 0.25,  colsample_bylevel = 0.25, min_child_weight = 24, reg_lambda = 25, eta = 0.007, verbose = False)\n",
        "final_model.fit(X_train,y_train)\n",
        "predictions = final_model.predict(X_test)\n",
        "precision_score(y_test,predictions, average  = 'micro')"
      ]
    },
    {
      "cell_type": "code",
      "execution_count": null,
      "id": "09cb5f8a-0a99-4047-a152-2df20bb6734f",
      "metadata": {
        "id": "09cb5f8a-0a99-4047-a152-2df20bb6734f",
        "outputId": "877cf5df-52ee-402a-df65-196d8a51e608"
      },
      "outputs": [
        {
          "name": "stdout",
          "output_type": "stream",
          "text": [
            "[09:02:38] WARNING: ../src/learner.cc:541: \n",
            "Parameters: { depth, verbose } might not be used.\n",
            "\n",
            "  This may not be accurate due to some parameters are only used in language bindings but\n",
            "  passed down to XGBoost core.  Or some parameters are not used but slip through this\n",
            "  verification. Please open an issue if you find above cases.\n",
            "\n",
            "\n",
            "[09:02:38] WARNING: ../src/learner.cc:1061: Starting in XGBoost 1.3.0, the default evaluation metric used with the objective 'binary:logistic' was changed from 'error' to 'logloss'. Explicitly set eval_metric if you'd like to restore the old behavior.\n",
            "[09:02:41] WARNING: ../src/learner.cc:541: \n",
            "Parameters: { depth, verbose } might not be used.\n",
            "\n",
            "  This may not be accurate due to some parameters are only used in language bindings but\n",
            "  passed down to XGBoost core.  Or some parameters are not used but slip through this\n",
            "  verification. Please open an issue if you find above cases.\n",
            "\n",
            "\n",
            "[09:02:41] WARNING: ../src/learner.cc:1061: Starting in XGBoost 1.3.0, the default evaluation metric used with the objective 'binary:logistic' was changed from 'error' to 'logloss'. Explicitly set eval_metric if you'd like to restore the old behavior.\n",
            "[09:02:43] WARNING: ../src/learner.cc:541: \n",
            "Parameters: { depth, verbose } might not be used.\n",
            "\n",
            "  This may not be accurate due to some parameters are only used in language bindings but\n",
            "  passed down to XGBoost core.  Or some parameters are not used but slip through this\n",
            "  verification. Please open an issue if you find above cases.\n",
            "\n",
            "\n",
            "[09:02:43] WARNING: ../src/learner.cc:1061: Starting in XGBoost 1.3.0, the default evaluation metric used with the objective 'binary:logistic' was changed from 'error' to 'logloss'. Explicitly set eval_metric if you'd like to restore the old behavior.\n",
            "[09:02:47] WARNING: ../src/learner.cc:541: \n",
            "Parameters: { depth, verbose } might not be used.\n",
            "\n",
            "  This may not be accurate due to some parameters are only used in language bindings but\n",
            "  passed down to XGBoost core.  Or some parameters are not used but slip through this\n",
            "  verification. Please open an issue if you find above cases.\n",
            "\n",
            "\n",
            "[09:02:47] WARNING: ../src/learner.cc:1061: Starting in XGBoost 1.3.0, the default evaluation metric used with the objective 'binary:logistic' was changed from 'error' to 'logloss'. Explicitly set eval_metric if you'd like to restore the old behavior.\n",
            "[09:02:50] WARNING: ../src/learner.cc:541: \n",
            "Parameters: { depth, verbose } might not be used.\n",
            "\n",
            "  This may not be accurate due to some parameters are only used in language bindings but\n",
            "  passed down to XGBoost core.  Or some parameters are not used but slip through this\n",
            "  verification. Please open an issue if you find above cases.\n",
            "\n",
            "\n",
            "[09:02:50] WARNING: ../src/learner.cc:1061: Starting in XGBoost 1.3.0, the default evaluation metric used with the objective 'binary:logistic' was changed from 'error' to 'logloss'. Explicitly set eval_metric if you'd like to restore the old behavior.\n"
          ]
        }
      ],
      "source": [
        "#Cross validation accross multiple metrics\n",
        "\n",
        "crv = cross_validate(final_model, X, y, scoring=['precision_micro', 'accuracy'], cv =5)\n"
      ]
    },
    {
      "cell_type": "code",
      "execution_count": null,
      "id": "7272c80d-ec80-418d-8e12-653d67cf2263",
      "metadata": {
        "id": "7272c80d-ec80-418d-8e12-653d67cf2263",
        "outputId": "9f49c07e-9084-403a-fc40-0f6ccb3ed304"
      },
      "outputs": [
        {
          "name": "stdout",
          "output_type": "stream",
          "text": [
            "The average precision accross 5 fold cross validation is  0.6537572254335261\n",
            "The maximum precision accross 5 fold cross validation is  0.6719653179190751\n",
            "The median precision accross 5 fold cross validation is  0.661849710982659\n",
            "The minimum precision accross 5 fold cross validation is  0.6271676300578035\n"
          ]
        }
      ],
      "source": [
        "#Printing cross val results\n",
        "\n",
        "crv_df = pd.DataFrame(crv)\n",
        "\n",
        "print('The average precision accross 5 fold cross validation is ' ,crv_df['test_precision_micro'].mean())\n",
        "print('The maximum precision accross 5 fold cross validation is ' ,crv_df['test_precision_micro'].max())\n",
        "print('The median precision accross 5 fold cross validation is ' ,crv_df['test_precision_micro'].median())\n",
        "print('The minimum precision accross 5 fold cross validation is ' ,crv_df['test_precision_micro'].min())\n"
      ]
    },
    {
      "cell_type": "markdown",
      "id": "3de40b51-c2fd-4ad2-8674-11d311870246",
      "metadata": {
        "id": "3de40b51-c2fd-4ad2-8674-11d311870246"
      },
      "source": [
        "### Summary and Conclusion\n",
        "\n",
        "- The most prominent features had something to do with the capacity of the venue for the venue\n",
        "\n",
        "\n",
        "- Accross the cross validation tests, an average precision of around 65.4% was achieved, with the model hovering around 62.7% minimum to 67.2% maximum. The median \n",
        "  performance of the final model was around 66.2%. On average, the model should predict correctly which venues require a ramp around 65.4% of the time. This is not     quite the level of performance asked (2/3 or around 66.7%) but given the amount and quality of the data, I consider it as a good performing model for the problem at     hand.\n",
        "   \n",
        "- Recommendations:\n",
        "  1. There could be more/better quality data; The performance of the machine learning model should go up with more data. Some of the records were duplicates and many had the same exact values.\n",
        "  2. Since the most prominent feature had something to do with capacty related metrics (most prominently standing capacity), the user should look out for venues with      lower capacity values as an important feature to take note off, though they should not put a lot of reliability on it. Other features such as whether the venue        is ticketed, involves music and alcohol should also be taken note off. \n",
        "  3. The model can be used as a validation tool after the user has narrowed done some possibilities.\n",
        "\n",
        "\n"
      ]
    }
  ],
  "metadata": {
    "colab": {
      "name": "Wheelchair Accessibility Prediction.ipynb",
      "provenance": [],
      "include_colab_link": true
    },
    "kernelspec": {
      "display_name": "Python 3 (ipykernel)",
      "language": "python",
      "name": "python3"
    },
    "language_info": {
      "codemirror_mode": {
        "name": "ipython",
        "version": 3
      },
      "file_extension": ".py",
      "mimetype": "text/x-python",
      "name": "python",
      "nbconvert_exporter": "python",
      "pygments_lexer": "ipython3",
      "version": "3.8.10"
    }
  },
  "nbformat": 4,
  "nbformat_minor": 5
}